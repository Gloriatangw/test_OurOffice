{
 "cells": [
  {
   "cell_type": "code",
   "execution_count": 269,
   "metadata": {},
   "outputs": [],
   "source": [
    "import pandas as pd\n",
    "import numpy as np \n",
    "import matplotlib.pyplot as plt\n",
    "import seaborn as sns\n",
    "data=pd.read_csv('dataset.csv')"
   ]
  },
  {
   "cell_type": "markdown",
   "metadata": {},
   "source": [
    "Data Quality"
   ]
  },
  {
   "cell_type": "code",
   "execution_count": 16,
   "metadata": {},
   "outputs": [
    {
     "data": {
      "text/html": [
       "<div>\n",
       "<style>\n",
       "    .dataframe thead tr:only-child th {\n",
       "        text-align: right;\n",
       "    }\n",
       "\n",
       "    .dataframe thead th {\n",
       "        text-align: left;\n",
       "    }\n",
       "\n",
       "    .dataframe tbody tr th {\n",
       "        vertical-align: top;\n",
       "    }\n",
       "</style>\n",
       "<table border=\"1\" class=\"dataframe\">\n",
       "  <thead>\n",
       "    <tr style=\"text-align: right;\">\n",
       "      <th></th>\n",
       "      <th>Id</th>\n",
       "      <th>EmployeeName</th>\n",
       "      <th>JobTitle</th>\n",
       "      <th>BasePay</th>\n",
       "      <th>OvertimePay</th>\n",
       "      <th>OtherPay</th>\n",
       "      <th>Benefits</th>\n",
       "      <th>TotalPay</th>\n",
       "      <th>TotalPayBenefits</th>\n",
       "      <th>Year</th>\n",
       "      <th>Notes</th>\n",
       "      <th>Agency</th>\n",
       "      <th>Status</th>\n",
       "    </tr>\n",
       "  </thead>\n",
       "  <tbody>\n",
       "    <tr>\n",
       "      <th>0</th>\n",
       "      <td>1</td>\n",
       "      <td>NATHANIEL FORD</td>\n",
       "      <td>GENERAL MANAGER-METROPOLITAN TRANSIT AUTHORITY</td>\n",
       "      <td>167411.18</td>\n",
       "      <td>0.00</td>\n",
       "      <td>400184.25</td>\n",
       "      <td>NaN</td>\n",
       "      <td>567595.43</td>\n",
       "      <td>567595.43</td>\n",
       "      <td>2011</td>\n",
       "      <td>NaN</td>\n",
       "      <td>San Francisco</td>\n",
       "      <td>NaN</td>\n",
       "    </tr>\n",
       "    <tr>\n",
       "      <th>1</th>\n",
       "      <td>2</td>\n",
       "      <td>GARY JIMENEZ</td>\n",
       "      <td>CAPTAIN III (POLICE DEPARTMENT)</td>\n",
       "      <td>155966.02</td>\n",
       "      <td>245131.88</td>\n",
       "      <td>137811.38</td>\n",
       "      <td>NaN</td>\n",
       "      <td>538909.28</td>\n",
       "      <td>538909.28</td>\n",
       "      <td>2011</td>\n",
       "      <td>NaN</td>\n",
       "      <td>San Francisco</td>\n",
       "      <td>NaN</td>\n",
       "    </tr>\n",
       "    <tr>\n",
       "      <th>2</th>\n",
       "      <td>3</td>\n",
       "      <td>ALBERT PARDINI</td>\n",
       "      <td>CAPTAIN III (POLICE DEPARTMENT)</td>\n",
       "      <td>212739.13</td>\n",
       "      <td>106088.18</td>\n",
       "      <td>16452.60</td>\n",
       "      <td>NaN</td>\n",
       "      <td>335279.91</td>\n",
       "      <td>335279.91</td>\n",
       "      <td>2011</td>\n",
       "      <td>NaN</td>\n",
       "      <td>San Francisco</td>\n",
       "      <td>NaN</td>\n",
       "    </tr>\n",
       "    <tr>\n",
       "      <th>3</th>\n",
       "      <td>4</td>\n",
       "      <td>CHRISTOPHER CHONG</td>\n",
       "      <td>WIRE ROPE CABLE MAINTENANCE MECHANIC</td>\n",
       "      <td>77916.00</td>\n",
       "      <td>56120.71</td>\n",
       "      <td>198306.90</td>\n",
       "      <td>NaN</td>\n",
       "      <td>332343.61</td>\n",
       "      <td>332343.61</td>\n",
       "      <td>2011</td>\n",
       "      <td>NaN</td>\n",
       "      <td>San Francisco</td>\n",
       "      <td>NaN</td>\n",
       "    </tr>\n",
       "    <tr>\n",
       "      <th>4</th>\n",
       "      <td>5</td>\n",
       "      <td>PATRICK GARDNER</td>\n",
       "      <td>DEPUTY CHIEF OF DEPARTMENT,(FIRE DEPARTMENT)</td>\n",
       "      <td>134401.60</td>\n",
       "      <td>9737.00</td>\n",
       "      <td>182234.59</td>\n",
       "      <td>NaN</td>\n",
       "      <td>326373.19</td>\n",
       "      <td>326373.19</td>\n",
       "      <td>2011</td>\n",
       "      <td>NaN</td>\n",
       "      <td>San Francisco</td>\n",
       "      <td>NaN</td>\n",
       "    </tr>\n",
       "  </tbody>\n",
       "</table>\n",
       "</div>"
      ],
      "text/plain": [
       "   Id       EmployeeName                                        JobTitle  \\\n",
       "0   1     NATHANIEL FORD  GENERAL MANAGER-METROPOLITAN TRANSIT AUTHORITY   \n",
       "1   2       GARY JIMENEZ                 CAPTAIN III (POLICE DEPARTMENT)   \n",
       "2   3     ALBERT PARDINI                 CAPTAIN III (POLICE DEPARTMENT)   \n",
       "3   4  CHRISTOPHER CHONG            WIRE ROPE CABLE MAINTENANCE MECHANIC   \n",
       "4   5    PATRICK GARDNER    DEPUTY CHIEF OF DEPARTMENT,(FIRE DEPARTMENT)   \n",
       "\n",
       "     BasePay  OvertimePay   OtherPay  Benefits   TotalPay  TotalPayBenefits  \\\n",
       "0  167411.18         0.00  400184.25       NaN  567595.43         567595.43   \n",
       "1  155966.02    245131.88  137811.38       NaN  538909.28         538909.28   \n",
       "2  212739.13    106088.18   16452.60       NaN  335279.91         335279.91   \n",
       "3   77916.00     56120.71  198306.90       NaN  332343.61         332343.61   \n",
       "4  134401.60      9737.00  182234.59       NaN  326373.19         326373.19   \n",
       "\n",
       "   Year  Notes         Agency  Status  \n",
       "0  2011    NaN  San Francisco     NaN  \n",
       "1  2011    NaN  San Francisco     NaN  \n",
       "2  2011    NaN  San Francisco     NaN  \n",
       "3  2011    NaN  San Francisco     NaN  \n",
       "4  2011    NaN  San Francisco     NaN  "
      ]
     },
     "execution_count": 16,
     "metadata": {},
     "output_type": "execute_result"
    }
   ],
   "source": [
    "data.head(5)"
   ]
  },
  {
   "cell_type": "code",
   "execution_count": 271,
   "metadata": {},
   "outputs": [
    {
     "data": {
      "text/plain": [
       "Id                    int64\n",
       "EmployeeName         object\n",
       "JobTitle             object\n",
       "BasePay             float64\n",
       "OvertimePay         float64\n",
       "OtherPay            float64\n",
       "Benefits            float64\n",
       "TotalPay            float64\n",
       "TotalPayBenefits    float64\n",
       "Year                  int64\n",
       "Notes               float64\n",
       "Agency               object\n",
       "Status              float64\n",
       "dtype: object"
      ]
     },
     "execution_count": 271,
     "metadata": {},
     "output_type": "execute_result"
    }
   ],
   "source": [
    "data.dtypes"
   ]
  },
  {
   "cell_type": "code",
   "execution_count": 17,
   "metadata": {},
   "outputs": [],
   "source": [
    "I=data.index\n",
    "J=data.columns"
   ]
  },
  {
   "cell_type": "code",
   "execution_count": 18,
   "metadata": {},
   "outputs": [
    {
     "name": "stdout",
     "output_type": "stream",
     "text": [
      "Id 100.0\n",
      "EmployeeName 100.0\n",
      "JobTitle 100.0\n",
      "BasePay 99.5903238393\n",
      "OvertimePay 99.9973091878\n",
      "OtherPay 99.9973091878\n",
      "Benefits 75.6730394069\n",
      "TotalPay 100.0\n",
      "TotalPayBenefits 100.0\n",
      "Year 100.0\n",
      "Notes 0.0\n",
      "Agency 100.0\n",
      "Status 0.0\n"
     ]
    }
   ],
   "source": [
    "#which column has missing value\n",
    "numrecords=len(data)\n",
    "numrecords\n",
    "for j in J:\n",
    "    print(j,data[j].count() * 100 / numrecords)"
   ]
  },
  {
   "cell_type": "code",
   "execution_count": 20,
   "metadata": {},
   "outputs": [
    {
     "data": {
      "text/html": [
       "<div>\n",
       "<style>\n",
       "    .dataframe thead tr:only-child th {\n",
       "        text-align: right;\n",
       "    }\n",
       "\n",
       "    .dataframe thead th {\n",
       "        text-align: left;\n",
       "    }\n",
       "\n",
       "    .dataframe tbody tr th {\n",
       "        vertical-align: top;\n",
       "    }\n",
       "</style>\n",
       "<table border=\"1\" class=\"dataframe\">\n",
       "  <thead>\n",
       "    <tr style=\"text-align: right;\">\n",
       "      <th></th>\n",
       "      <th>Id</th>\n",
       "      <th>EmployeeName</th>\n",
       "      <th>JobTitle</th>\n",
       "      <th>BasePay</th>\n",
       "      <th>OvertimePay</th>\n",
       "      <th>OtherPay</th>\n",
       "      <th>Benefits</th>\n",
       "      <th>TotalPay</th>\n",
       "      <th>TotalPayBenefits</th>\n",
       "      <th>Year</th>\n",
       "      <th>Notes</th>\n",
       "      <th>Agency</th>\n",
       "      <th>Status</th>\n",
       "    </tr>\n",
       "  </thead>\n",
       "  <tbody>\n",
       "    <tr>\n",
       "      <th>0</th>\n",
       "      <td>1</td>\n",
       "      <td>NATHANIEL FORD</td>\n",
       "      <td>GENERAL MANAGER-METROPOLITAN TRANSIT AUTHORITY</td>\n",
       "      <td>167411.18</td>\n",
       "      <td>0.00</td>\n",
       "      <td>400184.25</td>\n",
       "      <td>0.0</td>\n",
       "      <td>567595.43</td>\n",
       "      <td>567595.43</td>\n",
       "      <td>2011</td>\n",
       "      <td>NaN</td>\n",
       "      <td>San Francisco</td>\n",
       "      <td>NaN</td>\n",
       "    </tr>\n",
       "    <tr>\n",
       "      <th>1</th>\n",
       "      <td>2</td>\n",
       "      <td>GARY JIMENEZ</td>\n",
       "      <td>CAPTAIN III (POLICE DEPARTMENT)</td>\n",
       "      <td>155966.02</td>\n",
       "      <td>245131.88</td>\n",
       "      <td>137811.38</td>\n",
       "      <td>0.0</td>\n",
       "      <td>538909.28</td>\n",
       "      <td>538909.28</td>\n",
       "      <td>2011</td>\n",
       "      <td>NaN</td>\n",
       "      <td>San Francisco</td>\n",
       "      <td>NaN</td>\n",
       "    </tr>\n",
       "    <tr>\n",
       "      <th>2</th>\n",
       "      <td>3</td>\n",
       "      <td>ALBERT PARDINI</td>\n",
       "      <td>CAPTAIN III (POLICE DEPARTMENT)</td>\n",
       "      <td>212739.13</td>\n",
       "      <td>106088.18</td>\n",
       "      <td>16452.60</td>\n",
       "      <td>0.0</td>\n",
       "      <td>335279.91</td>\n",
       "      <td>335279.91</td>\n",
       "      <td>2011</td>\n",
       "      <td>NaN</td>\n",
       "      <td>San Francisco</td>\n",
       "      <td>NaN</td>\n",
       "    </tr>\n",
       "    <tr>\n",
       "      <th>3</th>\n",
       "      <td>4</td>\n",
       "      <td>CHRISTOPHER CHONG</td>\n",
       "      <td>WIRE ROPE CABLE MAINTENANCE MECHANIC</td>\n",
       "      <td>77916.00</td>\n",
       "      <td>56120.71</td>\n",
       "      <td>198306.90</td>\n",
       "      <td>0.0</td>\n",
       "      <td>332343.61</td>\n",
       "      <td>332343.61</td>\n",
       "      <td>2011</td>\n",
       "      <td>NaN</td>\n",
       "      <td>San Francisco</td>\n",
       "      <td>NaN</td>\n",
       "    </tr>\n",
       "    <tr>\n",
       "      <th>4</th>\n",
       "      <td>5</td>\n",
       "      <td>PATRICK GARDNER</td>\n",
       "      <td>DEPUTY CHIEF OF DEPARTMENT,(FIRE DEPARTMENT)</td>\n",
       "      <td>134401.60</td>\n",
       "      <td>9737.00</td>\n",
       "      <td>182234.59</td>\n",
       "      <td>0.0</td>\n",
       "      <td>326373.19</td>\n",
       "      <td>326373.19</td>\n",
       "      <td>2011</td>\n",
       "      <td>NaN</td>\n",
       "      <td>San Francisco</td>\n",
       "      <td>NaN</td>\n",
       "    </tr>\n",
       "  </tbody>\n",
       "</table>\n",
       "</div>"
      ],
      "text/plain": [
       "   Id       EmployeeName                                        JobTitle  \\\n",
       "0   1     NATHANIEL FORD  GENERAL MANAGER-METROPOLITAN TRANSIT AUTHORITY   \n",
       "1   2       GARY JIMENEZ                 CAPTAIN III (POLICE DEPARTMENT)   \n",
       "2   3     ALBERT PARDINI                 CAPTAIN III (POLICE DEPARTMENT)   \n",
       "3   4  CHRISTOPHER CHONG            WIRE ROPE CABLE MAINTENANCE MECHANIC   \n",
       "4   5    PATRICK GARDNER    DEPUTY CHIEF OF DEPARTMENT,(FIRE DEPARTMENT)   \n",
       "\n",
       "     BasePay  OvertimePay   OtherPay  Benefits   TotalPay  TotalPayBenefits  \\\n",
       "0  167411.18         0.00  400184.25       0.0  567595.43         567595.43   \n",
       "1  155966.02    245131.88  137811.38       0.0  538909.28         538909.28   \n",
       "2  212739.13    106088.18   16452.60       0.0  335279.91         335279.91   \n",
       "3   77916.00     56120.71  198306.90       0.0  332343.61         332343.61   \n",
       "4  134401.60      9737.00  182234.59       0.0  326373.19         326373.19   \n",
       "\n",
       "   Year  Notes         Agency  Status  \n",
       "0  2011    NaN  San Francisco     NaN  \n",
       "1  2011    NaN  San Francisco     NaN  \n",
       "2  2011    NaN  San Francisco     NaN  \n",
       "3  2011    NaN  San Francisco     NaN  \n",
       "4  2011    NaN  San Francisco     NaN  "
      ]
     },
     "execution_count": 20,
     "metadata": {},
     "output_type": "execute_result"
    }
   ],
   "source": [
    "# replace NAN with zero, from excel we know that there is no missing value in those columns\n",
    "data['BasePay'].fillna(0,inplace=True)\n",
    "data['OvertimePay'].fillna(0,inplace=True)\n",
    "data['OtherPay'].fillna(0,inplace=True)\n",
    "data['Benefits'].fillna(0,inplace=True)\n",
    "\n",
    "data.head(5)"
   ]
  },
  {
   "cell_type": "code",
   "execution_count": 21,
   "metadata": {},
   "outputs": [
    {
     "name": "stdout",
     "output_type": "stream",
     "text": [
      "Id 100.0\n",
      "EmployeeName 100.0\n",
      "JobTitle 100.0\n",
      "BasePay 100.0\n",
      "OvertimePay 100.0\n",
      "OtherPay 100.0\n",
      "Benefits 100.0\n",
      "TotalPay 100.0\n",
      "TotalPayBenefits 100.0\n",
      "Year 100.0\n",
      "Notes 0.0\n",
      "Agency 100.0\n",
      "Status 0.0\n"
     ]
    }
   ],
   "source": [
    "numrecords=len(data)\n",
    "numrecords\n",
    "for j in J:\n",
    "    print(j,data[j].count() * 100 / numrecords)"
   ]
  },
  {
   "cell_type": "code",
   "execution_count": 22,
   "metadata": {},
   "outputs": [
    {
     "data": {
      "text/plain": [
       "(148654, 13)"
      ]
     },
     "execution_count": 22,
     "metadata": {},
     "output_type": "execute_result"
    }
   ],
   "source": [
    "dim=data.shape\n",
    "dim"
   ]
  },
  {
   "cell_type": "code",
   "execution_count": 281,
   "metadata": {},
   "outputs": [
    {
     "data": {
      "text/plain": [
       "110811"
      ]
     },
     "execution_count": 281,
     "metadata": {},
     "output_type": "execute_result"
    }
   ],
   "source": [
    "# for catergorial variables\n",
    "len(data['EmployeeName'].unique())"
   ]
  },
  {
   "cell_type": "code",
   "execution_count": 274,
   "metadata": {},
   "outputs": [
    {
     "data": {
      "text/plain": [
       "1637"
      ]
     },
     "execution_count": 274,
     "metadata": {},
     "output_type": "execute_result"
    }
   ],
   "source": [
    "len(data['JobTitle'].unique())"
   ]
  },
  {
   "cell_type": "code",
   "execution_count": 275,
   "metadata": {},
   "outputs": [
    {
     "data": {
      "text/plain": [
       "4"
      ]
     },
     "execution_count": 275,
     "metadata": {},
     "output_type": "execute_result"
    }
   ],
   "source": [
    "len(data['Year'].unique())"
   ]
  },
  {
   "cell_type": "code",
   "execution_count": 279,
   "metadata": {},
   "outputs": [
    {
     "data": {
      "text/plain": [
       "2014    38123\n",
       "2013    37606\n",
       "2012    36766\n",
       "2011    36159\n",
       "Name: Year, dtype: int64"
      ]
     },
     "execution_count": 279,
     "metadata": {},
     "output_type": "execute_result"
    }
   ],
   "source": [
    "data['Year'].value_counts()"
   ]
  },
  {
   "cell_type": "code",
   "execution_count": 276,
   "metadata": {},
   "outputs": [
    {
     "data": {
      "text/plain": [
       "1"
      ]
     },
     "execution_count": 276,
     "metadata": {},
     "output_type": "execute_result"
    }
   ],
   "source": [
    "len(data['Agency'].unique()) "
   ]
  },
  {
   "cell_type": "code",
   "execution_count": 280,
   "metadata": {},
   "outputs": [
    {
     "data": {
      "text/plain": [
       "San Francisco    148654\n",
       "Name: Agency, dtype: int64"
      ]
     },
     "execution_count": 280,
     "metadata": {},
     "output_type": "execute_result"
    }
   ],
   "source": [
    "data['Agency'].value_counts() # all records in SF and no missing value in this field."
   ]
  },
  {
   "cell_type": "markdown",
   "metadata": {},
   "source": [
    "### Q1. the average of BasePay"
   ]
  },
  {
   "cell_type": "code",
   "execution_count": 23,
   "metadata": {},
   "outputs": [
    {
     "data": {
      "text/plain": [
       "66053.72928809702"
      ]
     },
     "execution_count": 23,
     "metadata": {},
     "output_type": "execute_result"
    }
   ],
   "source": [
    "np.mean(data['BasePay'])"
   ]
  },
  {
   "cell_type": "markdown",
   "metadata": {},
   "source": [
    " ### Q2.What are the TotalBenefits of JOSEPH DRISCOLL?\n",
    " A: Because it is case sensetivity and different format of name, so I plan to make them all in uppercase \n",
    " and just remain Fisrt name and Last name"
   ]
  },
  {
   "cell_type": "code",
   "execution_count": 24,
   "metadata": {},
   "outputs": [],
   "source": [
    "# uppercase\n",
    "for i in I:\n",
    "    data.loc[i,'EmployeeName']=data.loc[i,'EmployeeName'].upper()"
   ]
  },
  {
   "cell_type": "code",
   "execution_count": 57,
   "metadata": {},
   "outputs": [],
   "source": [
    "# remain first_name and last_name\n",
    "for i in I:\n",
    "    a=data.loc[i,'EmployeeName'].split()\n",
    "    if a[len(a)-1]=='JR' or a[len(a)-1]=='III': #some name have \"JR\" or \"III\" at the end\n",
    "        b=\" \".join([a[0],a[len(a)-2]])\n",
    "    else:\n",
    "        b=\" \".join([a[0],a[len(a)-1]])\n",
    "    data.loc[i,'EmployeeName_FL']=b"
   ]
  },
  {
   "cell_type": "code",
   "execution_count": 58,
   "metadata": {},
   "outputs": [
    {
     "data": {
      "text/html": [
       "<div>\n",
       "<style>\n",
       "    .dataframe thead tr:only-child th {\n",
       "        text-align: right;\n",
       "    }\n",
       "\n",
       "    .dataframe thead th {\n",
       "        text-align: left;\n",
       "    }\n",
       "\n",
       "    .dataframe tbody tr th {\n",
       "        vertical-align: top;\n",
       "    }\n",
       "</style>\n",
       "<table border=\"1\" class=\"dataframe\">\n",
       "  <thead>\n",
       "    <tr style=\"text-align: right;\">\n",
       "      <th></th>\n",
       "      <th>Id</th>\n",
       "      <th>EmployeeName</th>\n",
       "      <th>JobTitle</th>\n",
       "      <th>BasePay</th>\n",
       "      <th>OvertimePay</th>\n",
       "      <th>OtherPay</th>\n",
       "      <th>Benefits</th>\n",
       "      <th>TotalPay</th>\n",
       "      <th>TotalPayBenefits</th>\n",
       "      <th>Year</th>\n",
       "      <th>Notes</th>\n",
       "      <th>Agency</th>\n",
       "      <th>Status</th>\n",
       "      <th>EmployeeName_FL</th>\n",
       "    </tr>\n",
       "  </thead>\n",
       "  <tbody>\n",
       "    <tr>\n",
       "      <th>0</th>\n",
       "      <td>1</td>\n",
       "      <td>NATHANIEL FORD</td>\n",
       "      <td>GENERAL MANAGER-METROPOLITAN TRANSIT AUTHORITY</td>\n",
       "      <td>167411.18</td>\n",
       "      <td>0.00</td>\n",
       "      <td>400184.25</td>\n",
       "      <td>0.0</td>\n",
       "      <td>567595.43</td>\n",
       "      <td>567595.43</td>\n",
       "      <td>2011</td>\n",
       "      <td>NaN</td>\n",
       "      <td>San Francisco</td>\n",
       "      <td>NaN</td>\n",
       "      <td>NATHANIEL FORD</td>\n",
       "    </tr>\n",
       "    <tr>\n",
       "      <th>1</th>\n",
       "      <td>2</td>\n",
       "      <td>GARY JIMENEZ</td>\n",
       "      <td>CAPTAIN III (POLICE DEPARTMENT)</td>\n",
       "      <td>155966.02</td>\n",
       "      <td>245131.88</td>\n",
       "      <td>137811.38</td>\n",
       "      <td>0.0</td>\n",
       "      <td>538909.28</td>\n",
       "      <td>538909.28</td>\n",
       "      <td>2011</td>\n",
       "      <td>NaN</td>\n",
       "      <td>San Francisco</td>\n",
       "      <td>NaN</td>\n",
       "      <td>GARY JIMENEZ</td>\n",
       "    </tr>\n",
       "    <tr>\n",
       "      <th>2</th>\n",
       "      <td>3</td>\n",
       "      <td>ALBERT PARDINI</td>\n",
       "      <td>CAPTAIN III (POLICE DEPARTMENT)</td>\n",
       "      <td>212739.13</td>\n",
       "      <td>106088.18</td>\n",
       "      <td>16452.60</td>\n",
       "      <td>0.0</td>\n",
       "      <td>335279.91</td>\n",
       "      <td>335279.91</td>\n",
       "      <td>2011</td>\n",
       "      <td>NaN</td>\n",
       "      <td>San Francisco</td>\n",
       "      <td>NaN</td>\n",
       "      <td>ALBERT PARDINI</td>\n",
       "    </tr>\n",
       "    <tr>\n",
       "      <th>3</th>\n",
       "      <td>4</td>\n",
       "      <td>CHRISTOPHER CHONG</td>\n",
       "      <td>WIRE ROPE CABLE MAINTENANCE MECHANIC</td>\n",
       "      <td>77916.00</td>\n",
       "      <td>56120.71</td>\n",
       "      <td>198306.90</td>\n",
       "      <td>0.0</td>\n",
       "      <td>332343.61</td>\n",
       "      <td>332343.61</td>\n",
       "      <td>2011</td>\n",
       "      <td>NaN</td>\n",
       "      <td>San Francisco</td>\n",
       "      <td>NaN</td>\n",
       "      <td>CHRISTOPHER CHONG</td>\n",
       "    </tr>\n",
       "    <tr>\n",
       "      <th>4</th>\n",
       "      <td>5</td>\n",
       "      <td>PATRICK GARDNER</td>\n",
       "      <td>DEPUTY CHIEF OF DEPARTMENT,(FIRE DEPARTMENT)</td>\n",
       "      <td>134401.60</td>\n",
       "      <td>9737.00</td>\n",
       "      <td>182234.59</td>\n",
       "      <td>0.0</td>\n",
       "      <td>326373.19</td>\n",
       "      <td>326373.19</td>\n",
       "      <td>2011</td>\n",
       "      <td>NaN</td>\n",
       "      <td>San Francisco</td>\n",
       "      <td>NaN</td>\n",
       "      <td>PATRICK GARDNER</td>\n",
       "    </tr>\n",
       "    <tr>\n",
       "      <th>5</th>\n",
       "      <td>6</td>\n",
       "      <td>DAVID SULLIVAN</td>\n",
       "      <td>ASSISTANT DEPUTY CHIEF II</td>\n",
       "      <td>118602.00</td>\n",
       "      <td>8601.00</td>\n",
       "      <td>189082.74</td>\n",
       "      <td>0.0</td>\n",
       "      <td>316285.74</td>\n",
       "      <td>316285.74</td>\n",
       "      <td>2011</td>\n",
       "      <td>NaN</td>\n",
       "      <td>San Francisco</td>\n",
       "      <td>NaN</td>\n",
       "      <td>DAVID SULLIVAN</td>\n",
       "    </tr>\n",
       "    <tr>\n",
       "      <th>6</th>\n",
       "      <td>7</td>\n",
       "      <td>ALSON LEE</td>\n",
       "      <td>BATTALION CHIEF, (FIRE DEPARTMENT)</td>\n",
       "      <td>92492.01</td>\n",
       "      <td>89062.90</td>\n",
       "      <td>134426.14</td>\n",
       "      <td>0.0</td>\n",
       "      <td>315981.05</td>\n",
       "      <td>315981.05</td>\n",
       "      <td>2011</td>\n",
       "      <td>NaN</td>\n",
       "      <td>San Francisco</td>\n",
       "      <td>NaN</td>\n",
       "      <td>ALSON LEE</td>\n",
       "    </tr>\n",
       "    <tr>\n",
       "      <th>7</th>\n",
       "      <td>8</td>\n",
       "      <td>DAVID KUSHNER</td>\n",
       "      <td>DEPUTY DIRECTOR OF INVESTMENTS</td>\n",
       "      <td>256576.96</td>\n",
       "      <td>0.00</td>\n",
       "      <td>51322.50</td>\n",
       "      <td>0.0</td>\n",
       "      <td>307899.46</td>\n",
       "      <td>307899.46</td>\n",
       "      <td>2011</td>\n",
       "      <td>NaN</td>\n",
       "      <td>San Francisco</td>\n",
       "      <td>NaN</td>\n",
       "      <td>DAVID KUSHNER</td>\n",
       "    </tr>\n",
       "    <tr>\n",
       "      <th>8</th>\n",
       "      <td>9</td>\n",
       "      <td>MICHAEL MORRIS</td>\n",
       "      <td>BATTALION CHIEF, (FIRE DEPARTMENT)</td>\n",
       "      <td>176932.64</td>\n",
       "      <td>86362.68</td>\n",
       "      <td>40132.23</td>\n",
       "      <td>0.0</td>\n",
       "      <td>303427.55</td>\n",
       "      <td>303427.55</td>\n",
       "      <td>2011</td>\n",
       "      <td>NaN</td>\n",
       "      <td>San Francisco</td>\n",
       "      <td>NaN</td>\n",
       "      <td>MICHAEL MORRIS</td>\n",
       "    </tr>\n",
       "    <tr>\n",
       "      <th>9</th>\n",
       "      <td>10</td>\n",
       "      <td>JOANNE HAYES-WHITE</td>\n",
       "      <td>CHIEF OF DEPARTMENT, (FIRE DEPARTMENT)</td>\n",
       "      <td>285262.00</td>\n",
       "      <td>0.00</td>\n",
       "      <td>17115.73</td>\n",
       "      <td>0.0</td>\n",
       "      <td>302377.73</td>\n",
       "      <td>302377.73</td>\n",
       "      <td>2011</td>\n",
       "      <td>NaN</td>\n",
       "      <td>San Francisco</td>\n",
       "      <td>NaN</td>\n",
       "      <td>JOANNE HAYES-WHITE</td>\n",
       "    </tr>\n",
       "  </tbody>\n",
       "</table>\n",
       "</div>"
      ],
      "text/plain": [
       "   Id        EmployeeName                                        JobTitle  \\\n",
       "0   1      NATHANIEL FORD  GENERAL MANAGER-METROPOLITAN TRANSIT AUTHORITY   \n",
       "1   2        GARY JIMENEZ                 CAPTAIN III (POLICE DEPARTMENT)   \n",
       "2   3      ALBERT PARDINI                 CAPTAIN III (POLICE DEPARTMENT)   \n",
       "3   4   CHRISTOPHER CHONG            WIRE ROPE CABLE MAINTENANCE MECHANIC   \n",
       "4   5     PATRICK GARDNER    DEPUTY CHIEF OF DEPARTMENT,(FIRE DEPARTMENT)   \n",
       "5   6      DAVID SULLIVAN                       ASSISTANT DEPUTY CHIEF II   \n",
       "6   7           ALSON LEE              BATTALION CHIEF, (FIRE DEPARTMENT)   \n",
       "7   8       DAVID KUSHNER                  DEPUTY DIRECTOR OF INVESTMENTS   \n",
       "8   9      MICHAEL MORRIS              BATTALION CHIEF, (FIRE DEPARTMENT)   \n",
       "9  10  JOANNE HAYES-WHITE          CHIEF OF DEPARTMENT, (FIRE DEPARTMENT)   \n",
       "\n",
       "     BasePay  OvertimePay   OtherPay  Benefits   TotalPay  TotalPayBenefits  \\\n",
       "0  167411.18         0.00  400184.25       0.0  567595.43         567595.43   \n",
       "1  155966.02    245131.88  137811.38       0.0  538909.28         538909.28   \n",
       "2  212739.13    106088.18   16452.60       0.0  335279.91         335279.91   \n",
       "3   77916.00     56120.71  198306.90       0.0  332343.61         332343.61   \n",
       "4  134401.60      9737.00  182234.59       0.0  326373.19         326373.19   \n",
       "5  118602.00      8601.00  189082.74       0.0  316285.74         316285.74   \n",
       "6   92492.01     89062.90  134426.14       0.0  315981.05         315981.05   \n",
       "7  256576.96         0.00   51322.50       0.0  307899.46         307899.46   \n",
       "8  176932.64     86362.68   40132.23       0.0  303427.55         303427.55   \n",
       "9  285262.00         0.00   17115.73       0.0  302377.73         302377.73   \n",
       "\n",
       "   Year  Notes         Agency  Status     EmployeeName_FL  \n",
       "0  2011    NaN  San Francisco     NaN      NATHANIEL FORD  \n",
       "1  2011    NaN  San Francisco     NaN        GARY JIMENEZ  \n",
       "2  2011    NaN  San Francisco     NaN      ALBERT PARDINI  \n",
       "3  2011    NaN  San Francisco     NaN   CHRISTOPHER CHONG  \n",
       "4  2011    NaN  San Francisco     NaN     PATRICK GARDNER  \n",
       "5  2011    NaN  San Francisco     NaN      DAVID SULLIVAN  \n",
       "6  2011    NaN  San Francisco     NaN           ALSON LEE  \n",
       "7  2011    NaN  San Francisco     NaN       DAVID KUSHNER  \n",
       "8  2011    NaN  San Francisco     NaN      MICHAEL MORRIS  \n",
       "9  2011    NaN  San Francisco     NaN  JOANNE HAYES-WHITE  "
      ]
     },
     "execution_count": 58,
     "metadata": {},
     "output_type": "execute_result"
    }
   ],
   "source": [
    "data.head(10)"
   ]
  },
  {
   "cell_type": "code",
   "execution_count": 59,
   "metadata": {},
   "outputs": [
    {
     "data": {
      "text/plain": [
       "Benefits    143522.76\n",
       "dtype: float64"
      ]
     },
     "execution_count": 59,
     "metadata": {},
     "output_type": "execute_result"
    }
   ],
   "source": [
    "np.sum(data.loc[data['EmployeeName_FL']=='JOSEPH DRISCOLL',['Benefits']])"
   ]
  },
  {
   "cell_type": "markdown",
   "metadata": {},
   "source": [
    "### Q3.Highest paid person by name?"
   ]
  },
  {
   "cell_type": "code",
   "execution_count": 62,
   "metadata": {},
   "outputs": [
    {
     "data": {
      "text/html": [
       "<div>\n",
       "<style>\n",
       "    .dataframe thead tr:only-child th {\n",
       "        text-align: right;\n",
       "    }\n",
       "\n",
       "    .dataframe thead th {\n",
       "        text-align: left;\n",
       "    }\n",
       "\n",
       "    .dataframe tbody tr th {\n",
       "        vertical-align: top;\n",
       "    }\n",
       "</style>\n",
       "<table border=\"1\" class=\"dataframe\">\n",
       "  <thead>\n",
       "    <tr style=\"text-align: right;\">\n",
       "      <th></th>\n",
       "      <th>TotalPayBenefits</th>\n",
       "    </tr>\n",
       "    <tr>\n",
       "      <th>EmployeeName_FL</th>\n",
       "      <th></th>\n",
       "    </tr>\n",
       "  </thead>\n",
       "  <tbody>\n",
       "    <tr>\n",
       "      <th>KEVIN LEE</th>\n",
       "      <td>4321420.67</td>\n",
       "    </tr>\n",
       "  </tbody>\n",
       "</table>\n",
       "</div>"
      ],
      "text/plain": [
       "                 TotalPayBenefits\n",
       "EmployeeName_FL                  \n",
       "KEVIN LEE              4321420.67"
      ]
     },
     "execution_count": 62,
     "metadata": {},
     "output_type": "execute_result"
    }
   ],
   "source": [
    "## considered TotalPayBenefits and total salary in 4 years\n",
    "a=data.groupby('EmployeeName_FL').agg({'TotalPayBenefits': np.sum})\n",
    "a.sort_values(by='TotalPayBenefits',ascending=False).head(1)"
   ]
  },
  {
   "cell_type": "code",
   "execution_count": 63,
   "metadata": {},
   "outputs": [
    {
     "data": {
      "text/html": [
       "<div>\n",
       "<style>\n",
       "    .dataframe thead tr:only-child th {\n",
       "        text-align: right;\n",
       "    }\n",
       "\n",
       "    .dataframe thead th {\n",
       "        text-align: left;\n",
       "    }\n",
       "\n",
       "    .dataframe tbody tr th {\n",
       "        vertical-align: top;\n",
       "    }\n",
       "</style>\n",
       "<table border=\"1\" class=\"dataframe\">\n",
       "  <thead>\n",
       "    <tr style=\"text-align: right;\">\n",
       "      <th></th>\n",
       "      <th>TotalPay</th>\n",
       "    </tr>\n",
       "    <tr>\n",
       "      <th>EmployeeName_FL</th>\n",
       "      <th></th>\n",
       "    </tr>\n",
       "  </thead>\n",
       "  <tbody>\n",
       "    <tr>\n",
       "      <th>KEVIN LEE</th>\n",
       "      <td>3464378.9</td>\n",
       "    </tr>\n",
       "  </tbody>\n",
       "</table>\n",
       "</div>"
      ],
      "text/plain": [
       "                  TotalPay\n",
       "EmployeeName_FL           \n",
       "KEVIN LEE        3464378.9"
      ]
     },
     "execution_count": 63,
     "metadata": {},
     "output_type": "execute_result"
    }
   ],
   "source": [
    "## considered TotalPay\n",
    "a=data.groupby('EmployeeName_FL').agg({'TotalPay': np.sum})\n",
    "a.sort_values(by='TotalPay',ascending=False).head(1)"
   ]
  },
  {
   "cell_type": "markdown",
   "metadata": {},
   "source": [
    "### Q4. What was the average (mean) BasePay of all employees per year? (2011-2014) ? "
   ]
  },
  {
   "cell_type": "code",
   "execution_count": 64,
   "metadata": {},
   "outputs": [
    {
     "data": {
      "text/html": [
       "<div>\n",
       "<style>\n",
       "    .dataframe thead tr:only-child th {\n",
       "        text-align: right;\n",
       "    }\n",
       "\n",
       "    .dataframe thead th {\n",
       "        text-align: left;\n",
       "    }\n",
       "\n",
       "    .dataframe tbody tr th {\n",
       "        vertical-align: top;\n",
       "    }\n",
       "</style>\n",
       "<table border=\"1\" class=\"dataframe\">\n",
       "  <thead>\n",
       "    <tr style=\"text-align: right;\">\n",
       "      <th></th>\n",
       "      <th>BasePay</th>\n",
       "    </tr>\n",
       "    <tr>\n",
       "      <th>Year</th>\n",
       "      <th></th>\n",
       "    </tr>\n",
       "  </thead>\n",
       "  <tbody>\n",
       "    <tr>\n",
       "      <th>2011</th>\n",
       "      <td>63595.956517</td>\n",
       "    </tr>\n",
       "    <tr>\n",
       "      <th>2012</th>\n",
       "      <td>65436.406857</td>\n",
       "    </tr>\n",
       "    <tr>\n",
       "      <th>2013</th>\n",
       "      <td>68509.832156</td>\n",
       "    </tr>\n",
       "    <tr>\n",
       "      <th>2014</th>\n",
       "      <td>66557.437750</td>\n",
       "    </tr>\n",
       "  </tbody>\n",
       "</table>\n",
       "</div>"
      ],
      "text/plain": [
       "           BasePay\n",
       "Year              \n",
       "2011  63595.956517\n",
       "2012  65436.406857\n",
       "2013  68509.832156\n",
       "2014  66557.437750"
      ]
     },
     "execution_count": 64,
     "metadata": {},
     "output_type": "execute_result"
    }
   ],
   "source": [
    "data.groupby('Year').agg({'BasePay': np.mean})"
   ]
  },
  {
   "cell_type": "markdown",
   "metadata": {},
   "source": [
    "### Q5. How many Job Titles were represented by only one person in 2013"
   ]
  },
  {
   "cell_type": "code",
   "execution_count": 65,
   "metadata": {},
   "outputs": [],
   "source": [
    "# Same problem with case sensetivity, we solve this problem first by capitalizing all letters.\n",
    "for i in I:\n",
    "    data.loc[i,'JobTitle']=data.loc[i,'JobTitle'].upper()"
   ]
  },
  {
   "cell_type": "code",
   "execution_count": 66,
   "metadata": {},
   "outputs": [
    {
     "data": {
      "text/html": [
       "<div>\n",
       "<style>\n",
       "    .dataframe thead tr:only-child th {\n",
       "        text-align: right;\n",
       "    }\n",
       "\n",
       "    .dataframe thead th {\n",
       "        text-align: left;\n",
       "    }\n",
       "\n",
       "    .dataframe tbody tr th {\n",
       "        vertical-align: top;\n",
       "    }\n",
       "</style>\n",
       "<table border=\"1\" class=\"dataframe\">\n",
       "  <thead>\n",
       "    <tr style=\"text-align: right;\">\n",
       "      <th></th>\n",
       "      <th>Id</th>\n",
       "      <th>EmployeeName</th>\n",
       "      <th>JobTitle</th>\n",
       "      <th>BasePay</th>\n",
       "      <th>OvertimePay</th>\n",
       "      <th>OtherPay</th>\n",
       "      <th>Benefits</th>\n",
       "      <th>TotalPay</th>\n",
       "      <th>TotalPayBenefits</th>\n",
       "      <th>Year</th>\n",
       "      <th>Notes</th>\n",
       "      <th>Agency</th>\n",
       "      <th>Status</th>\n",
       "      <th>EmployeeName_FL</th>\n",
       "    </tr>\n",
       "  </thead>\n",
       "  <tbody>\n",
       "    <tr>\n",
       "      <th>0</th>\n",
       "      <td>1</td>\n",
       "      <td>NATHANIEL FORD</td>\n",
       "      <td>GENERAL MANAGER-METROPOLITAN TRANSIT AUTHORITY</td>\n",
       "      <td>167411.18</td>\n",
       "      <td>0.00</td>\n",
       "      <td>400184.25</td>\n",
       "      <td>0.0</td>\n",
       "      <td>567595.43</td>\n",
       "      <td>567595.43</td>\n",
       "      <td>2011</td>\n",
       "      <td>NaN</td>\n",
       "      <td>San Francisco</td>\n",
       "      <td>NaN</td>\n",
       "      <td>NATHANIEL FORD</td>\n",
       "    </tr>\n",
       "    <tr>\n",
       "      <th>1</th>\n",
       "      <td>2</td>\n",
       "      <td>GARY JIMENEZ</td>\n",
       "      <td>CAPTAIN III (POLICE DEPARTMENT)</td>\n",
       "      <td>155966.02</td>\n",
       "      <td>245131.88</td>\n",
       "      <td>137811.38</td>\n",
       "      <td>0.0</td>\n",
       "      <td>538909.28</td>\n",
       "      <td>538909.28</td>\n",
       "      <td>2011</td>\n",
       "      <td>NaN</td>\n",
       "      <td>San Francisco</td>\n",
       "      <td>NaN</td>\n",
       "      <td>GARY JIMENEZ</td>\n",
       "    </tr>\n",
       "    <tr>\n",
       "      <th>2</th>\n",
       "      <td>3</td>\n",
       "      <td>ALBERT PARDINI</td>\n",
       "      <td>CAPTAIN III (POLICE DEPARTMENT)</td>\n",
       "      <td>212739.13</td>\n",
       "      <td>106088.18</td>\n",
       "      <td>16452.60</td>\n",
       "      <td>0.0</td>\n",
       "      <td>335279.91</td>\n",
       "      <td>335279.91</td>\n",
       "      <td>2011</td>\n",
       "      <td>NaN</td>\n",
       "      <td>San Francisco</td>\n",
       "      <td>NaN</td>\n",
       "      <td>ALBERT PARDINI</td>\n",
       "    </tr>\n",
       "    <tr>\n",
       "      <th>3</th>\n",
       "      <td>4</td>\n",
       "      <td>CHRISTOPHER CHONG</td>\n",
       "      <td>WIRE ROPE CABLE MAINTENANCE MECHANIC</td>\n",
       "      <td>77916.00</td>\n",
       "      <td>56120.71</td>\n",
       "      <td>198306.90</td>\n",
       "      <td>0.0</td>\n",
       "      <td>332343.61</td>\n",
       "      <td>332343.61</td>\n",
       "      <td>2011</td>\n",
       "      <td>NaN</td>\n",
       "      <td>San Francisco</td>\n",
       "      <td>NaN</td>\n",
       "      <td>CHRISTOPHER CHONG</td>\n",
       "    </tr>\n",
       "    <tr>\n",
       "      <th>4</th>\n",
       "      <td>5</td>\n",
       "      <td>PATRICK GARDNER</td>\n",
       "      <td>DEPUTY CHIEF OF DEPARTMENT,(FIRE DEPARTMENT)</td>\n",
       "      <td>134401.60</td>\n",
       "      <td>9737.00</td>\n",
       "      <td>182234.59</td>\n",
       "      <td>0.0</td>\n",
       "      <td>326373.19</td>\n",
       "      <td>326373.19</td>\n",
       "      <td>2011</td>\n",
       "      <td>NaN</td>\n",
       "      <td>San Francisco</td>\n",
       "      <td>NaN</td>\n",
       "      <td>PATRICK GARDNER</td>\n",
       "    </tr>\n",
       "  </tbody>\n",
       "</table>\n",
       "</div>"
      ],
      "text/plain": [
       "   Id       EmployeeName                                        JobTitle  \\\n",
       "0   1     NATHANIEL FORD  GENERAL MANAGER-METROPOLITAN TRANSIT AUTHORITY   \n",
       "1   2       GARY JIMENEZ                 CAPTAIN III (POLICE DEPARTMENT)   \n",
       "2   3     ALBERT PARDINI                 CAPTAIN III (POLICE DEPARTMENT)   \n",
       "3   4  CHRISTOPHER CHONG            WIRE ROPE CABLE MAINTENANCE MECHANIC   \n",
       "4   5    PATRICK GARDNER    DEPUTY CHIEF OF DEPARTMENT,(FIRE DEPARTMENT)   \n",
       "\n",
       "     BasePay  OvertimePay   OtherPay  Benefits   TotalPay  TotalPayBenefits  \\\n",
       "0  167411.18         0.00  400184.25       0.0  567595.43         567595.43   \n",
       "1  155966.02    245131.88  137811.38       0.0  538909.28         538909.28   \n",
       "2  212739.13    106088.18   16452.60       0.0  335279.91         335279.91   \n",
       "3   77916.00     56120.71  198306.90       0.0  332343.61         332343.61   \n",
       "4  134401.60      9737.00  182234.59       0.0  326373.19         326373.19   \n",
       "\n",
       "   Year  Notes         Agency  Status    EmployeeName_FL  \n",
       "0  2011    NaN  San Francisco     NaN     NATHANIEL FORD  \n",
       "1  2011    NaN  San Francisco     NaN       GARY JIMENEZ  \n",
       "2  2011    NaN  San Francisco     NaN     ALBERT PARDINI  \n",
       "3  2011    NaN  San Francisco     NaN  CHRISTOPHER CHONG  \n",
       "4  2011    NaN  San Francisco     NaN    PATRICK GARDNER  "
      ]
     },
     "execution_count": 66,
     "metadata": {},
     "output_type": "execute_result"
    }
   ],
   "source": [
    "data.head()"
   ]
  },
  {
   "cell_type": "code",
   "execution_count": 67,
   "metadata": {},
   "outputs": [
    {
     "data": {
      "text/plain": [
       "Id    202\n",
       "dtype: int64"
      ]
     },
     "execution_count": 67,
     "metadata": {},
     "output_type": "execute_result"
    }
   ],
   "source": [
    "a=data[data['Year']==2013].groupby('JobTitle').count()\n",
    "a.loc[a['Id']==1,['Id']].count()"
   ]
  },
  {
   "cell_type": "markdown",
   "metadata": {},
   "source": [
    "### Q6.How many people have the word Chief in their job title?"
   ]
  },
  {
   "cell_type": "code",
   "execution_count": 68,
   "metadata": {},
   "outputs": [],
   "source": [
    "count=0\n",
    "for i in I:\n",
    "    if \"CHIEF\" in data.loc[i,'JobTitle']:\n",
    "        count = count + 1"
   ]
  },
  {
   "cell_type": "code",
   "execution_count": 69,
   "metadata": {},
   "outputs": [
    {
     "data": {
      "text/plain": [
       "627"
      ]
     },
     "execution_count": 69,
     "metadata": {},
     "output_type": "execute_result"
    }
   ],
   "source": [
    "count"
   ]
  },
  {
   "cell_type": "markdown",
   "metadata": {},
   "source": [
    "### Q7.Is there a correlation between length of the Job Title string and Salary"
   ]
  },
  {
   "cell_type": "code",
   "execution_count": 118,
   "metadata": {},
   "outputs": [],
   "source": [
    "#based on TotalPayBenefits\n",
    "lenJob_total=[]\n",
    "for i in I:\n",
    "    lenJob_total.append([len(data.loc[i,'JobTitle']),data.loc[i,'TotalPayBenefits']])\n",
    "lenJob_total=pd.DataFrame(lenJob_total,index=I,columns=['JobgTitle_Length','TotalPayBenefits'])"
   ]
  },
  {
   "cell_type": "code",
   "execution_count": 125,
   "metadata": {},
   "outputs": [
    {
     "data": {
      "image/png": "[encoded data removed]",
      "text/plain": [
       "<matplotlib.figure.Figure at 0x1a2c56a6d8>"
      ]
     },
     "metadata": {},
     "output_type": "display_data"
    },
    {
     "name": "stdout",
     "output_type": "stream",
     "text": [
      "The correlation between length of the Job Title string and Total Pay Benefits is -0.0368784459326\n"
     ]
    }
   ],
   "source": [
    "plt.scatter(lenJob_total.JobgTitle_Length, lenJob_total.TotalPayBenefits)\n",
    "plt.title('Length of Job Title vs. Total Pay Benefits')\n",
    "plt.xlabel('Length of Job Title')\n",
    "plt.ylabel('Total Pay Benefits')\n",
    "plt.show()\n",
    "corr1=lenJob_total.JobgTitle_Length.corr(lenJob_total.TotalPayBenefits)\n",
    "print('The correlation between length of the Job Title string and Total Pay Benefits is',corr1)"
   ]
  },
  {
   "cell_type": "code",
   "execution_count": 121,
   "metadata": {},
   "outputs": [],
   "source": [
    "lenJob_salary=[]\n",
    "for i in I:\n",
    "    lenJob_salary.append([len(data.loc[i,'JobTitle']),data.loc[i,'BasePay']])\n",
    "lenJob_salary=pd.DataFrame(lenJob_salary,index=I,columns=['JobgTitle_Length','BasePay'])"
   ]
  },
  {
   "cell_type": "code",
   "execution_count": 122,
   "metadata": {},
   "outputs": [
    {
     "data": {
      "text/html": [
       "<div>\n",
       "<style>\n",
       "    .dataframe thead tr:only-child th {\n",
       "        text-align: right;\n",
       "    }\n",
       "\n",
       "    .dataframe thead th {\n",
       "        text-align: left;\n",
       "    }\n",
       "\n",
       "    .dataframe tbody tr th {\n",
       "        vertical-align: top;\n",
       "    }\n",
       "</style>\n",
       "<table border=\"1\" class=\"dataframe\">\n",
       "  <thead>\n",
       "    <tr style=\"text-align: right;\">\n",
       "      <th></th>\n",
       "      <th>JobgTitle_Length</th>\n",
       "      <th>BasePay</th>\n",
       "    </tr>\n",
       "  </thead>\n",
       "  <tbody>\n",
       "    <tr>\n",
       "      <th>JobgTitle_Length</th>\n",
       "      <td>1.000000</td>\n",
       "      <td>-0.005507</td>\n",
       "    </tr>\n",
       "    <tr>\n",
       "      <th>BasePay</th>\n",
       "      <td>-0.005507</td>\n",
       "      <td>1.000000</td>\n",
       "    </tr>\n",
       "  </tbody>\n",
       "</table>\n",
       "</div>"
      ],
      "text/plain": [
       "                  JobgTitle_Length   BasePay\n",
       "JobgTitle_Length          1.000000 -0.005507\n",
       "BasePay                  -0.005507  1.000000"
      ]
     },
     "execution_count": 122,
     "metadata": {},
     "output_type": "execute_result"
    }
   ],
   "source": [
    "lenJob_salary.corr()"
   ]
  },
  {
   "cell_type": "code",
   "execution_count": 126,
   "metadata": {},
   "outputs": [
    {
     "data": {
      "image/png": "[encoded data removed]",
      "text/plain": [
       "<matplotlib.figure.Figure at 0x1a20619e10>"
      ]
     },
     "metadata": {},
     "output_type": "display_data"
    },
    {
     "name": "stdout",
     "output_type": "stream",
     "text": [
      "The correlation between length of the Job Title string and Base Pay is -0.00550747361427\n"
     ]
    }
   ],
   "source": [
    "plt.scatter(lenJob_salary.JobgTitle_Length, lenJob_salary.BasePay)\n",
    "plt.title('Length of Job Title vs. Base Pay')\n",
    "plt.xlabel('Length of Job Title')\n",
    "plt.ylabel('Base Pay')\n",
    "plt.show()\n",
    "corr=lenJob_salary.JobgTitle_Length.corr(lenJob_salary.BasePay)\n",
    "print('The correlation between length of the Job Title string and Base Pay is',corr)"
   ]
  },
  {
   "cell_type": "markdown",
   "metadata": {},
   "source": [
    "Conclusion: The correlations between length of the Job Title string and Total Pay Benefits and between length of the Job Title string and Base Pay are both small, so there is kind of no correlation between length of the Job Title string and Salary."
   ]
  },
  {
   "cell_type": "markdown",
   "metadata": {},
   "source": [
    "### Q8. Show a correlation heatmap of the data"
   ]
  },
  {
   "cell_type": "code",
   "execution_count": 106,
   "metadata": {},
   "outputs": [
    {
     "data": {
      "image/png": "[encoded data removed]",
      "text/plain": [
       "<matplotlib.figure.Figure at 0x1a202f9a20>"
      ]
     },
     "metadata": {},
     "output_type": "display_data"
    }
   ],
   "source": [
    "#There is no information in Notes and Status columns, so we leave them out.\n",
    "plt.figure(figsize=(10,8))  \n",
    "plt.title('Pearson Correlation of Features',y=1.05,size=15)  \n",
    "sns.heatmap(data.iloc[:,[0,1,2,3,4,5,6,7,8,9,11]].corr(),linewidths=0.1,vmax=1.0,  \n",
    "            square=True,linecolor='white',annot=True)  \n",
    "plt.show()  "
   ]
  },
  {
   "cell_type": "markdown",
   "metadata": {},
   "source": [
    "### Q9. Largest BasePay by Job"
   ]
  },
  {
   "cell_type": "code",
   "execution_count": 130,
   "metadata": {},
   "outputs": [
    {
     "data": {
      "text/html": [
       "<div>\n",
       "<style>\n",
       "    .dataframe thead tr:only-child th {\n",
       "        text-align: right;\n",
       "    }\n",
       "\n",
       "    .dataframe thead th {\n",
       "        text-align: left;\n",
       "    }\n",
       "\n",
       "    .dataframe tbody tr th {\n",
       "        vertical-align: top;\n",
       "    }\n",
       "</style>\n",
       "<table border=\"1\" class=\"dataframe\">\n",
       "  <thead>\n",
       "    <tr style=\"text-align: right;\">\n",
       "      <th></th>\n",
       "      <th>BasePay</th>\n",
       "    </tr>\n",
       "    <tr>\n",
       "      <th>JobTitle</th>\n",
       "      <th></th>\n",
       "    </tr>\n",
       "  </thead>\n",
       "  <tbody>\n",
       "    <tr>\n",
       "      <th>CHIEF OF POLICE</th>\n",
       "      <td>319275.01</td>\n",
       "    </tr>\n",
       "    <tr>\n",
       "      <th>ASST MED EXAMINER</th>\n",
       "      <td>318835.49</td>\n",
       "    </tr>\n",
       "    <tr>\n",
       "      <th>DEP DIR FOR INVESTMENTS, RET</th>\n",
       "      <td>315572.01</td>\n",
       "    </tr>\n",
       "    <tr>\n",
       "      <th>CHIEF, FIRE DEPARTMENT</th>\n",
       "      <td>313686.01</td>\n",
       "    </tr>\n",
       "    <tr>\n",
       "      <th>EXECUTIVE CONTRACT EMPLOYEE</th>\n",
       "      <td>313312.52</td>\n",
       "    </tr>\n",
       "    <tr>\n",
       "      <th>DEPT HEAD V</th>\n",
       "      <td>311758.96</td>\n",
       "    </tr>\n",
       "    <tr>\n",
       "      <th>GEN MGR, PUBLIC TRNSP DEPT</th>\n",
       "      <td>305307.89</td>\n",
       "    </tr>\n",
       "    <tr>\n",
       "      <th>MAYOR</th>\n",
       "      <td>285446.37</td>\n",
       "    </tr>\n",
       "    <tr>\n",
       "      <th>CHIEF OF DEPARTMENT, (FIRE DEPARTMENT)</th>\n",
       "      <td>285262.00</td>\n",
       "    </tr>\n",
       "    <tr>\n",
       "      <th>ADMINISTRATOR, DPH</th>\n",
       "      <td>282619.96</td>\n",
       "    </tr>\n",
       "    <tr>\n",
       "      <th>DEPUTY CHIEF 3</th>\n",
       "      <td>278964.00</td>\n",
       "    </tr>\n",
       "    <tr>\n",
       "      <th>ADM, SFGH MEDICAL CENTER</th>\n",
       "      <td>271831.50</td>\n",
       "    </tr>\n",
       "    <tr>\n",
       "      <th>DEPARTMENT HEAD V</th>\n",
       "      <td>271329.03</td>\n",
       "    </tr>\n",
       "    <tr>\n",
       "      <th>DEP CHF OF DEPT (FIRE DEPT)</th>\n",
       "      <td>270756.03</td>\n",
       "    </tr>\n",
       "    <tr>\n",
       "      <th>CONTROLLER</th>\n",
       "      <td>270641.53</td>\n",
       "    </tr>\n",
       "    <tr>\n",
       "      <th>DEPUTY CHIEF III (POLICE DEPARTMENT)</th>\n",
       "      <td>261717.60</td>\n",
       "    </tr>\n",
       "    <tr>\n",
       "      <th>ASSISTANT MEDICAL EXAMINER</th>\n",
       "      <td>257510.59</td>\n",
       "    </tr>\n",
       "    <tr>\n",
       "      <th>CHIEF INVESTMENT OFFICER</th>\n",
       "      <td>257340.00</td>\n",
       "    </tr>\n",
       "    <tr>\n",
       "      <th>DEPUTY DIRECTOR OF INVESTMENTS</th>\n",
       "      <td>256576.96</td>\n",
       "    </tr>\n",
       "    <tr>\n",
       "      <th>DEP DIR V</th>\n",
       "      <td>254578.48</td>\n",
       "    </tr>\n",
       "    <tr>\n",
       "      <th>PORT DIRECTOR</th>\n",
       "      <td>253895.00</td>\n",
       "    </tr>\n",
       "    <tr>\n",
       "      <th>DISTRICT ATTORNEY</th>\n",
       "      <td>252221.06</td>\n",
       "    </tr>\n",
       "    <tr>\n",
       "      <th>DEPUTY CHIEF OF DEPARTMENT,(FIRE DEPARTMENT)</th>\n",
       "      <td>246225.60</td>\n",
       "    </tr>\n",
       "    <tr>\n",
       "      <th>ADMINISTRATOR, SFGH MEDICAL CENTER</th>\n",
       "      <td>245124.44</td>\n",
       "    </tr>\n",
       "    <tr>\n",
       "      <th>DEPUTY DIR II, MTA</th>\n",
       "      <td>245022.20</td>\n",
       "    </tr>\n",
       "    <tr>\n",
       "      <th>ANESTHETIST</th>\n",
       "      <td>241036.02</td>\n",
       "    </tr>\n",
       "    <tr>\n",
       "      <th>MANAGER VIII</th>\n",
       "      <td>240008.92</td>\n",
       "    </tr>\n",
       "    <tr>\n",
       "      <th>ASSISTANT DEPUTY CHIEF 2</th>\n",
       "      <td>239247.05</td>\n",
       "    </tr>\n",
       "    <tr>\n",
       "      <th>EMERGENCY MEDICAL SVCS CHIEF</th>\n",
       "      <td>239247.00</td>\n",
       "    </tr>\n",
       "    <tr>\n",
       "      <th>DEPT HEAD IV</th>\n",
       "      <td>234775.53</td>\n",
       "    </tr>\n",
       "    <tr>\n",
       "      <th>...</th>\n",
       "      <td>...</td>\n",
       "    </tr>\n",
       "    <tr>\n",
       "      <th>SPECIAL ASSISTANT 18</th>\n",
       "      <td>11215.17</td>\n",
       "    </tr>\n",
       "    <tr>\n",
       "      <th>BRD COMM MBR, M=$200/MTG</th>\n",
       "      <td>10800.00</td>\n",
       "    </tr>\n",
       "    <tr>\n",
       "      <th>BOARD COMMISSION MEMBER, $200 PER MEETING</th>\n",
       "      <td>10200.00</td>\n",
       "    </tr>\n",
       "    <tr>\n",
       "      <th>SUPERIOR COURT JUDGE</th>\n",
       "      <td>9827.56</td>\n",
       "    </tr>\n",
       "    <tr>\n",
       "      <th>CAMP ASSISTANT</th>\n",
       "      <td>9181.30</td>\n",
       "    </tr>\n",
       "    <tr>\n",
       "      <th>PR DISTATTY INVSTGTOR,SPECUNIT</th>\n",
       "      <td>7059.90</td>\n",
       "    </tr>\n",
       "    <tr>\n",
       "      <th>MUSM EXHIBIT PACKER &amp; REPAIRER</th>\n",
       "      <td>6952.42</td>\n",
       "    </tr>\n",
       "    <tr>\n",
       "      <th>BDCOMM MBR, GRP5,M$100/MO</th>\n",
       "      <td>5120.00</td>\n",
       "    </tr>\n",
       "    <tr>\n",
       "      <th>SPECIAL ASSISTANT 8</th>\n",
       "      <td>3656.90</td>\n",
       "    </tr>\n",
       "    <tr>\n",
       "      <th>ORTHOPEDIC TECHNICIAN I</th>\n",
       "      <td>3583.40</td>\n",
       "    </tr>\n",
       "    <tr>\n",
       "      <th>PUBLIC SERVICE AIDE-TECHNICAL</th>\n",
       "      <td>2552.55</td>\n",
       "    </tr>\n",
       "    <tr>\n",
       "      <th>BOARD/COMMISSION MEMBER, GROUP V</th>\n",
       "      <td>2399.80</td>\n",
       "    </tr>\n",
       "    <tr>\n",
       "      <th>AIRPORT ASSISTANT DEPUTY DIRECTOR, BUSINESS ADMINI</th>\n",
       "      <td>1927.50</td>\n",
       "    </tr>\n",
       "    <tr>\n",
       "      <th>BDCOMM MBR, GRP3,M=$50/MTG</th>\n",
       "      <td>1450.00</td>\n",
       "    </tr>\n",
       "    <tr>\n",
       "      <th>BOARD/COMMISSION MEMBER, GROUP III</th>\n",
       "      <td>1300.00</td>\n",
       "    </tr>\n",
       "    <tr>\n",
       "      <th>COMMISSIONER 16.700C, NO PAY</th>\n",
       "      <td>1288.00</td>\n",
       "    </tr>\n",
       "    <tr>\n",
       "      <th>BOARD/COMMISSION MEMBER, GROUP II</th>\n",
       "      <td>1125.00</td>\n",
       "    </tr>\n",
       "    <tr>\n",
       "      <th>BDCOMM MBR, GRP2,M=$25/MTG</th>\n",
       "      <td>875.00</td>\n",
       "    </tr>\n",
       "    <tr>\n",
       "      <th>SPECIAL ASSISTANT XIV</th>\n",
       "      <td>673.80</td>\n",
       "    </tr>\n",
       "    <tr>\n",
       "      <th>ASSISTANT RECREATION SUPERVISOR</th>\n",
       "      <td>0.00</td>\n",
       "    </tr>\n",
       "    <tr>\n",
       "      <th>RECREATION DIRECTOR</th>\n",
       "      <td>0.00</td>\n",
       "    </tr>\n",
       "    <tr>\n",
       "      <th>PUBLIC SAFETY COMMUNICATIONS TECHNICIAN</th>\n",
       "      <td>0.00</td>\n",
       "    </tr>\n",
       "    <tr>\n",
       "      <th>PUBLIC SAFETY COMM TECH</th>\n",
       "      <td>0.00</td>\n",
       "    </tr>\n",
       "    <tr>\n",
       "      <th>WAREHOUSE WORKER</th>\n",
       "      <td>0.00</td>\n",
       "    </tr>\n",
       "    <tr>\n",
       "      <th>CAPTAIN, (FIRE DEPARTMENT)</th>\n",
       "      <td>0.00</td>\n",
       "    </tr>\n",
       "    <tr>\n",
       "      <th>CASHIER 3</th>\n",
       "      <td>0.00</td>\n",
       "    </tr>\n",
       "    <tr>\n",
       "      <th>NOT PROVIDED</th>\n",
       "      <td>0.00</td>\n",
       "    </tr>\n",
       "    <tr>\n",
       "      <th>CONVERSION</th>\n",
       "      <td>0.00</td>\n",
       "    </tr>\n",
       "    <tr>\n",
       "      <th>IS TECHNICIAN ASSISTANT</th>\n",
       "      <td>0.00</td>\n",
       "    </tr>\n",
       "    <tr>\n",
       "      <th>DRUG COURT COORDINATOR</th>\n",
       "      <td>0.00</td>\n",
       "    </tr>\n",
       "  </tbody>\n",
       "</table>\n",
       "<p>1637 rows × 1 columns</p>\n",
       "</div>"
      ],
      "text/plain": [
       "                                                      BasePay\n",
       "JobTitle                                                     \n",
       "CHIEF OF POLICE                                     319275.01\n",
       "ASST MED EXAMINER                                   318835.49\n",
       "DEP DIR FOR INVESTMENTS, RET                        315572.01\n",
       "CHIEF, FIRE DEPARTMENT                              313686.01\n",
       "EXECUTIVE CONTRACT EMPLOYEE                         313312.52\n",
       "DEPT HEAD V                                         311758.96\n",
       "GEN MGR, PUBLIC TRNSP DEPT                          305307.89\n",
       "MAYOR                                               285446.37\n",
       "CHIEF OF DEPARTMENT, (FIRE DEPARTMENT)              285262.00\n",
       "ADMINISTRATOR, DPH                                  282619.96\n",
       "DEPUTY CHIEF 3                                      278964.00\n",
       "ADM, SFGH MEDICAL CENTER                            271831.50\n",
       "DEPARTMENT HEAD V                                   271329.03\n",
       "DEP CHF OF DEPT (FIRE DEPT)                         270756.03\n",
       "CONTROLLER                                          270641.53\n",
       "DEPUTY CHIEF III (POLICE DEPARTMENT)                261717.60\n",
       "ASSISTANT MEDICAL EXAMINER                          257510.59\n",
       "CHIEF INVESTMENT OFFICER                            257340.00\n",
       "DEPUTY DIRECTOR OF INVESTMENTS                      256576.96\n",
       "DEP DIR V                                           254578.48\n",
       "PORT DIRECTOR                                       253895.00\n",
       "DISTRICT ATTORNEY                                   252221.06\n",
       "DEPUTY CHIEF OF DEPARTMENT,(FIRE DEPARTMENT)        246225.60\n",
       "ADMINISTRATOR, SFGH MEDICAL CENTER                  245124.44\n",
       "DEPUTY DIR II, MTA                                  245022.20\n",
       "ANESTHETIST                                         241036.02\n",
       "MANAGER VIII                                        240008.92\n",
       "ASSISTANT DEPUTY CHIEF 2                            239247.05\n",
       "EMERGENCY MEDICAL SVCS CHIEF                        239247.00\n",
       "DEPT HEAD IV                                        234775.53\n",
       "...                                                       ...\n",
       "SPECIAL ASSISTANT 18                                 11215.17\n",
       "BRD COMM MBR, M=$200/MTG                             10800.00\n",
       "BOARD COMMISSION MEMBER, $200 PER MEETING            10200.00\n",
       "SUPERIOR COURT JUDGE                                  9827.56\n",
       "CAMP ASSISTANT                                        9181.30\n",
       "PR DISTATTY INVSTGTOR,SPECUNIT                        7059.90\n",
       "MUSM EXHIBIT PACKER & REPAIRER                        6952.42\n",
       "BDCOMM MBR, GRP5,M$100/MO                             5120.00\n",
       "SPECIAL ASSISTANT 8                                   3656.90\n",
       "ORTHOPEDIC TECHNICIAN I                               3583.40\n",
       "PUBLIC SERVICE AIDE-TECHNICAL                         2552.55\n",
       "BOARD/COMMISSION MEMBER, GROUP V                      2399.80\n",
       "AIRPORT ASSISTANT DEPUTY DIRECTOR, BUSINESS ADMINI    1927.50\n",
       "BDCOMM MBR, GRP3,M=$50/MTG                            1450.00\n",
       "BOARD/COMMISSION MEMBER, GROUP III                    1300.00\n",
       "COMMISSIONER 16.700C, NO PAY                          1288.00\n",
       "BOARD/COMMISSION MEMBER, GROUP II                     1125.00\n",
       "BDCOMM MBR, GRP2,M=$25/MTG                             875.00\n",
       "SPECIAL ASSISTANT XIV                                  673.80\n",
       "ASSISTANT RECREATION SUPERVISOR                          0.00\n",
       "RECREATION DIRECTOR                                      0.00\n",
       "PUBLIC SAFETY COMMUNICATIONS TECHNICIAN                  0.00\n",
       "PUBLIC SAFETY COMM TECH                                  0.00\n",
       "WAREHOUSE WORKER                                         0.00\n",
       "CAPTAIN, (FIRE DEPARTMENT)                               0.00\n",
       "CASHIER 3                                                0.00\n",
       "NOT PROVIDED                                             0.00\n",
       "CONVERSION                                               0.00\n",
       "IS TECHNICIAN ASSISTANT                                  0.00\n",
       "DRUG COURT COORDINATOR                                   0.00\n",
       "\n",
       "[1637 rows x 1 columns]"
      ]
     },
     "execution_count": 130,
     "metadata": {},
     "output_type": "execute_result"
    }
   ],
   "source": [
    "largest_Basepay=data.groupby('JobTitle').agg({'BasePay': np.max})\n",
    "largest_Basepay.sort_values(by='BasePay',ascending=False)\n",
    "#the result shows the highest basepay for each job"
   ]
  },
  {
   "cell_type": "markdown",
   "metadata": {},
   "source": [
    "### Q10. Top 30 sectors for SF salary "
   ]
  },
  {
   "cell_type": "code",
   "execution_count": 257,
   "metadata": {},
   "outputs": [],
   "source": [
    "# 1. find all title that contain \"department\"\n",
    "#count=0\n",
    "#sectors_salary=[]\n",
    "#for i in I:\n",
    "#    if \"DEPARTMENT\" in data.loc[i,'JobTitle']:\n",
    "#        sectors_salary.append([data.loc[i,'JobTitle'],data.loc[i,'TotalPayBenefits']])\n",
    "#sectors_salsry\n",
    "# the result shows less than 30 sectors"
   ]
  },
  {
   "cell_type": "code",
   "execution_count": 128,
   "metadata": {},
   "outputs": [
    {
     "data": {
      "text/html": [
       "<div>\n",
       "<style>\n",
       "    .dataframe thead tr:only-child th {\n",
       "        text-align: right;\n",
       "    }\n",
       "\n",
       "    .dataframe thead th {\n",
       "        text-align: left;\n",
       "    }\n",
       "\n",
       "    .dataframe tbody tr th {\n",
       "        vertical-align: top;\n",
       "    }\n",
       "</style>\n",
       "<table border=\"1\" class=\"dataframe\">\n",
       "  <thead>\n",
       "    <tr style=\"text-align: right;\">\n",
       "      <th></th>\n",
       "      <th>TotalPayBenefits</th>\n",
       "    </tr>\n",
       "    <tr>\n",
       "      <th>JobTitle</th>\n",
       "      <th></th>\n",
       "    </tr>\n",
       "  </thead>\n",
       "  <tbody>\n",
       "    <tr>\n",
       "      <th>GENERAL MANAGER-METROPOLITAN TRANSIT AUTHORITY</th>\n",
       "      <td>567595.43</td>\n",
       "    </tr>\n",
       "    <tr>\n",
       "      <th>CAPTAIN III (POLICE DEPARTMENT)</th>\n",
       "      <td>538909.28</td>\n",
       "    </tr>\n",
       "    <tr>\n",
       "      <th>DEPUTY CHIEF 3</th>\n",
       "      <td>510732.68</td>\n",
       "    </tr>\n",
       "    <tr>\n",
       "      <th>ASST MED EXAMINER</th>\n",
       "      <td>479652.21</td>\n",
       "    </tr>\n",
       "    <tr>\n",
       "      <th>CHIEF INVESTMENT OFFICER</th>\n",
       "      <td>436224.36</td>\n",
       "    </tr>\n",
       "    <tr>\n",
       "      <th>CHIEF OF POLICE</th>\n",
       "      <td>425815.28</td>\n",
       "    </tr>\n",
       "    <tr>\n",
       "      <th>CHIEF, FIRE DEPARTMENT</th>\n",
       "      <td>422353.40</td>\n",
       "    </tr>\n",
       "    <tr>\n",
       "      <th>LIEUTENANT, FIRE SUPPRESSION</th>\n",
       "      <td>407274.78</td>\n",
       "    </tr>\n",
       "    <tr>\n",
       "      <th>BATTALION CHIEF, FIRE SUPPRESS</th>\n",
       "      <td>404167.27</td>\n",
       "    </tr>\n",
       "    <tr>\n",
       "      <th>DEPT HEAD V</th>\n",
       "      <td>401070.87</td>\n",
       "    </tr>\n",
       "    <tr>\n",
       "      <th>EXECUTIVE CONTRACT EMPLOYEE</th>\n",
       "      <td>398984.53</td>\n",
       "    </tr>\n",
       "    <tr>\n",
       "      <th>DEP DIR FOR INVESTMENTS, RET</th>\n",
       "      <td>398421.67</td>\n",
       "    </tr>\n",
       "    <tr>\n",
       "      <th>ASST CHF OF DEPT (FIRE DEPT)</th>\n",
       "      <td>396778.68</td>\n",
       "    </tr>\n",
       "    <tr>\n",
       "      <th>ELECTRONIC MAINTENANCE TECH</th>\n",
       "      <td>389496.02</td>\n",
       "    </tr>\n",
       "    <tr>\n",
       "      <th>GEN MGR, PUBLIC TRNSP DEPT</th>\n",
       "      <td>386168.49</td>\n",
       "    </tr>\n",
       "    <tr>\n",
       "      <th>SENIOR PHYSICIAN SPECIALIST</th>\n",
       "      <td>381697.80</td>\n",
       "    </tr>\n",
       "    <tr>\n",
       "      <th>EMT/PARAMEDIC/FIREFIGHTER</th>\n",
       "      <td>381643.11</td>\n",
       "    </tr>\n",
       "    <tr>\n",
       "      <th>CAPTAIN 3</th>\n",
       "      <td>374690.64</td>\n",
       "    </tr>\n",
       "    <tr>\n",
       "      <th>COMMANDER 3</th>\n",
       "      <td>374083.49</td>\n",
       "    </tr>\n",
       "    <tr>\n",
       "      <th>DEP CHF OF DEPT (FIRE DEPT)</th>\n",
       "      <td>372411.97</td>\n",
       "    </tr>\n",
       "    <tr>\n",
       "      <th>BATTLION CHIEF, FIRE SUPPRESSI</th>\n",
       "      <td>371531.92</td>\n",
       "    </tr>\n",
       "    <tr>\n",
       "      <th>ADMINISTRATOR, DPH</th>\n",
       "      <td>365561.14</td>\n",
       "    </tr>\n",
       "    <tr>\n",
       "      <th>MAYOR</th>\n",
       "      <td>364814.51</td>\n",
       "    </tr>\n",
       "    <tr>\n",
       "      <th>ASSISTANT DEPUTY CHIEF 2</th>\n",
       "      <td>362306.21</td>\n",
       "    </tr>\n",
       "    <tr>\n",
       "      <th>TRANSIT MANAGER 2</th>\n",
       "      <td>359447.75</td>\n",
       "    </tr>\n",
       "    <tr>\n",
       "      <th>ADM, SFGH MEDICAL CENTER</th>\n",
       "      <td>352343.22</td>\n",
       "    </tr>\n",
       "    <tr>\n",
       "      <th>CONTROLLER</th>\n",
       "      <td>347713.88</td>\n",
       "    </tr>\n",
       "    <tr>\n",
       "      <th>CAPTAIN, FIRE SUPPRESSION</th>\n",
       "      <td>347131.09</td>\n",
       "    </tr>\n",
       "    <tr>\n",
       "      <th>DEPUTY SHERIFF</th>\n",
       "      <td>344560.33</td>\n",
       "    </tr>\n",
       "    <tr>\n",
       "      <th>ANESTHETIST</th>\n",
       "      <td>334779.88</td>\n",
       "    </tr>\n",
       "  </tbody>\n",
       "</table>\n",
       "</div>"
      ],
      "text/plain": [
       "                                                TotalPayBenefits\n",
       "JobTitle                                                        \n",
       "GENERAL MANAGER-METROPOLITAN TRANSIT AUTHORITY         567595.43\n",
       "CAPTAIN III (POLICE DEPARTMENT)                        538909.28\n",
       "DEPUTY CHIEF 3                                         510732.68\n",
       "ASST MED EXAMINER                                      479652.21\n",
       "CHIEF INVESTMENT OFFICER                               436224.36\n",
       "CHIEF OF POLICE                                        425815.28\n",
       "CHIEF, FIRE DEPARTMENT                                 422353.40\n",
       "LIEUTENANT, FIRE SUPPRESSION                           407274.78\n",
       "BATTALION CHIEF, FIRE SUPPRESS                         404167.27\n",
       "DEPT HEAD V                                            401070.87\n",
       "EXECUTIVE CONTRACT EMPLOYEE                            398984.53\n",
       "DEP DIR FOR INVESTMENTS, RET                           398421.67\n",
       "ASST CHF OF DEPT (FIRE DEPT)                           396778.68\n",
       "ELECTRONIC MAINTENANCE TECH                            389496.02\n",
       "GEN MGR, PUBLIC TRNSP DEPT                             386168.49\n",
       "SENIOR PHYSICIAN SPECIALIST                            381697.80\n",
       "EMT/PARAMEDIC/FIREFIGHTER                              381643.11\n",
       "CAPTAIN 3                                              374690.64\n",
       "COMMANDER 3                                            374083.49\n",
       "DEP CHF OF DEPT (FIRE DEPT)                            372411.97\n",
       "BATTLION CHIEF, FIRE SUPPRESSI                         371531.92\n",
       "ADMINISTRATOR, DPH                                     365561.14\n",
       "MAYOR                                                  364814.51\n",
       "ASSISTANT DEPUTY CHIEF 2                               362306.21\n",
       "TRANSIT MANAGER 2                                      359447.75\n",
       "ADM, SFGH MEDICAL CENTER                               352343.22\n",
       "CONTROLLER                                             347713.88\n",
       "CAPTAIN, FIRE SUPPRESSION                              347131.09\n",
       "DEPUTY SHERIFF                                         344560.33\n",
       "ANESTHETIST                                            334779.88"
      ]
     },
     "execution_count": 128,
     "metadata": {},
     "output_type": "execute_result"
    }
   ],
   "source": [
    "#based on jobtitle & totalpaybenefit\n",
    "#Since we already know that all records are in SF\n",
    "largest_Basepay=data.groupby('JobTitle').agg({'TotalPayBenefits': np.max})\n",
    "largest_Basepay.sort_values(by='TotalPayBenefits',ascending=False).head(30)\n"
   ]
  },
  {
   "cell_type": "markdown",
   "metadata": {},
   "source": [
    "### Q11. Is BasePay a good predictor of TotalPay (in this case, just use correlation). Depict a graph with a regression line while also showing their correlation. Interpret the results "
   ]
  },
  {
   "cell_type": "code",
   "execution_count": 111,
   "metadata": {},
   "outputs": [
    {
     "data": {
      "text/plain": [
       "0.95469259057883882"
      ]
     },
     "execution_count": 111,
     "metadata": {},
     "output_type": "execute_result"
    }
   ],
   "source": [
    "data.BasePay.corr(data.TotalPay)"
   ]
  },
  {
   "cell_type": "code",
   "execution_count": 116,
   "metadata": {},
   "outputs": [
    {
     "data": {
      "image/png": "[encoded data removed]",
      "text/plain": [
       "<matplotlib.figure.Figure at 0x1a2d96dc50>"
      ]
     },
     "metadata": {},
     "output_type": "display_data"
    },
    {
     "name": "stdout",
     "output_type": "stream",
     "text": [
      "The correlation between Base Pay and Total Pay is 0.95\n"
     ]
    }
   ],
   "source": [
    "sns.set(style='white', palette='muted', color_codes=True) \n",
    "sns.jointplot(x='BasePay', y='TotalPay', data=data,kind='reg',line_kws={'color':'black'})\n",
    "#plt.title('Regression Line between Base Pay and Total Pay')\n",
    "plt.show()\n",
    "corr=data.BasePay.corr(data.TotalPay)\n",
    "print('The correlation between Base Pay and Total Pay is {0:.2f}'.format(corr))"
   ]
  },
  {
   "cell_type": "markdown",
   "metadata": {},
   "source": [
    "Based on the graph and correlation between Base Pay and Total Pay, BasePay and TotalPay have a positive relationship, and BasePay is a good predictor to Total Pay since when BasePay increases, Total Pay will increases."
   ]
  },
  {
   "cell_type": "markdown",
   "metadata": {},
   "source": [
    "### Q12.what other interesting insights can you pull from the data?"
   ]
  },
  {
   "cell_type": "code",
   "execution_count": 146,
   "metadata": {},
   "outputs": [
    {
     "data": {
      "text/html": [
       "<div>\n",
       "<style>\n",
       "    .dataframe thead tr:only-child th {\n",
       "        text-align: right;\n",
       "    }\n",
       "\n",
       "    .dataframe thead th {\n",
       "        text-align: left;\n",
       "    }\n",
       "\n",
       "    .dataframe tbody tr th {\n",
       "        vertical-align: top;\n",
       "    }\n",
       "</style>\n",
       "<table border=\"1\" class=\"dataframe\">\n",
       "  <thead>\n",
       "    <tr style=\"text-align: right;\">\n",
       "      <th></th>\n",
       "      <th>BasePay</th>\n",
       "      <th>OvertimePay</th>\n",
       "      <th>OtherPay</th>\n",
       "      <th>Benefits</th>\n",
       "      <th>TotalPay</th>\n",
       "      <th>TotalPayBenefits</th>\n",
       "    </tr>\n",
       "    <tr>\n",
       "      <th>Year</th>\n",
       "      <th></th>\n",
       "      <th></th>\n",
       "      <th></th>\n",
       "      <th></th>\n",
       "      <th></th>\n",
       "      <th></th>\n",
       "    </tr>\n",
       "  </thead>\n",
       "  <tbody>\n",
       "    <tr>\n",
       "      <th>2011</th>\n",
       "      <td>63595.956517</td>\n",
       "      <td>4531.065429</td>\n",
       "      <td>3617.081926</td>\n",
       "      <td>0.000000</td>\n",
       "      <td>71744.103871</td>\n",
       "      <td>71744.103871</td>\n",
       "    </tr>\n",
       "    <tr>\n",
       "      <th>2012</th>\n",
       "      <td>65436.406857</td>\n",
       "      <td>5023.417824</td>\n",
       "      <td>3653.437583</td>\n",
       "      <td>26439.966967</td>\n",
       "      <td>74113.262265</td>\n",
       "      <td>100553.229232</td>\n",
       "    </tr>\n",
       "    <tr>\n",
       "      <th>2013</th>\n",
       "      <td>68509.832156</td>\n",
       "      <td>5281.641980</td>\n",
       "      <td>3819.969007</td>\n",
       "      <td>23829.076572</td>\n",
       "      <td>77611.443142</td>\n",
       "      <td>101440.519714</td>\n",
       "    </tr>\n",
       "    <tr>\n",
       "      <th>2014</th>\n",
       "      <td>66557.437750</td>\n",
       "      <td>5401.426941</td>\n",
       "      <td>3505.053449</td>\n",
       "      <td>24787.000743</td>\n",
       "      <td>75463.918140</td>\n",
       "      <td>100250.918884</td>\n",
       "    </tr>\n",
       "  </tbody>\n",
       "</table>\n",
       "</div>"
      ],
      "text/plain": [
       "           BasePay  OvertimePay     OtherPay      Benefits      TotalPay  \\\n",
       "Year                                                                       \n",
       "2011  63595.956517  4531.065429  3617.081926      0.000000  71744.103871   \n",
       "2012  65436.406857  5023.417824  3653.437583  26439.966967  74113.262265   \n",
       "2013  68509.832156  5281.641980  3819.969007  23829.076572  77611.443142   \n",
       "2014  66557.437750  5401.426941  3505.053449  24787.000743  75463.918140   \n",
       "\n",
       "      TotalPayBenefits  \n",
       "Year                    \n",
       "2011      71744.103871  \n",
       "2012     100553.229232  \n",
       "2013     101440.519714  \n",
       "2014     100250.918884  "
      ]
     },
     "execution_count": 146,
     "metadata": {},
     "output_type": "execute_result"
    }
   ],
   "source": [
    "#time series analysis\n",
    "#by each year\n",
    "a=data.groupby('Year').agg({'BasePay': np.mean})\n",
    "b=data.groupby('Year').agg({'OvertimePay': np.mean})\n",
    "c=data.groupby('Year').agg({'OtherPay': np.mean})\n",
    "d=data.groupby('Year').agg({'Benefits': np.mean})\n",
    "e=data.groupby('Year').agg({'TotalPay': np.mean})\n",
    "f=data.groupby('Year').agg({'TotalPayBenefits': np.mean})\n",
    "meanPay=a.join([b,c,d,e,f], how='left')\n",
    "meanPay"
   ]
  },
  {
   "cell_type": "markdown",
   "metadata": {},
   "source": [
    "The benefit in 2011 is zero."
   ]
  },
  {
   "cell_type": "code",
   "execution_count": 265,
   "metadata": {},
   "outputs": [
    {
     "data": {
      "image/png": "[encoded data removed]",
      "text/plain": [
       "<matplotlib.figure.Figure at 0x1a2cfd8ba8>"
      ]
     },
     "metadata": {},
     "output_type": "display_data"
    }
   ],
   "source": [
    "plt.figure(figsize=(10,8))  \n",
    "plt.plot(a,label='Base Pay')\n",
    "plt.plot(b,label='OverTime Pay')\n",
    "plt.plot(c,label='Other Pay')\n",
    "plt.plot(d,label='Benefit')\n",
    "plt.plot(e,label='Total Pay')\n",
    "plt.plot(f,label='Total Pay Benefit')\n",
    "plt.legend(bbox_to_anchor=(1.0, 1), loc=1, borderaxespad=0.) \n",
    "plt.xlabel('Year')\n",
    "plt.ylabel('Amount')\n",
    "#plt.xlim(2011,2014)\n",
    "plt.show()"
   ]
  },
  {
   "cell_type": "markdown",
   "metadata": {},
   "source": [
    "From the above graph, we learn that in average: \n",
    "\n",
    "1.Total Pay and Base Pay have similar trends. Both of them increased from 2011 to 2013, and decreased in 2014.\n",
    "At previous question, we know that Total Pay and Base Pay have a strong correlation.\n",
    "\n",
    "2.There is no Benefit in 2011.\n",
    "\n",
    "3.Benefit and Total Pay Benefit have similar trends. For instance, Benefit and Total Pay Benefit have an increase in 2012. The increase in Benefit in 2012 might cause the increase in Total Pay Benefit in 2012. I would do correlation analysis in next step.\n",
    "\n",
    "4.Benefit have an obvious decrease in 2013\n",
    "\n",
    "5.The line of OverTime Pay and Other Pay are flat. Both of them slightly change from 2011-2014. And the amount of them are smaller than others. "
   ]
  },
  {
   "cell_type": "markdown",
   "metadata": {},
   "source": [
    "#### Is there a correlation between Benefit and Total Pay Benefit."
   ]
  },
  {
   "cell_type": "code",
   "execution_count": 185,
   "metadata": {},
   "outputs": [
    {
     "data": {
      "text/plain": [
       "0.78196308879823806"
      ]
     },
     "execution_count": 185,
     "metadata": {},
     "output_type": "execute_result"
    }
   ],
   "source": [
    "data.Benefits.corr(data.TotalPayBenefits)"
   ]
  },
  {
   "cell_type": "code",
   "execution_count": 197,
   "metadata": {},
   "outputs": [
    {
     "data": {
      "text/html": [
       "<div>\n",
       "<style>\n",
       "    .dataframe thead tr:only-child th {\n",
       "        text-align: right;\n",
       "    }\n",
       "\n",
       "    .dataframe thead th {\n",
       "        text-align: left;\n",
       "    }\n",
       "\n",
       "    .dataframe tbody tr th {\n",
       "        vertical-align: top;\n",
       "    }\n",
       "</style>\n",
       "<table border=\"1\" class=\"dataframe\">\n",
       "  <thead>\n",
       "    <tr style=\"text-align: right;\">\n",
       "      <th></th>\n",
       "      <th>Benefits</th>\n",
       "      <th>TotalPayBenefits</th>\n",
       "    </tr>\n",
       "  </thead>\n",
       "  <tbody>\n",
       "    <tr>\n",
       "      <th>Benefits</th>\n",
       "      <td>1.000000</td>\n",
       "      <td>0.930146</td>\n",
       "    </tr>\n",
       "    <tr>\n",
       "      <th>TotalPayBenefits</th>\n",
       "      <td>0.930146</td>\n",
       "      <td>1.000000</td>\n",
       "    </tr>\n",
       "  </tbody>\n",
       "</table>\n",
       "</div>"
      ],
      "text/plain": [
       "                  Benefits  TotalPayBenefits\n",
       "Benefits          1.000000          0.930146\n",
       "TotalPayBenefits  0.930146          1.000000"
      ]
     },
     "execution_count": 197,
     "metadata": {},
     "output_type": "execute_result"
    }
   ],
   "source": [
    "# since the benefit is zero in 2011, so we shouldn't take those records into account.\n",
    "data.loc[data['Year']!=2011,['Benefits','TotalPayBenefits']].corr()"
   ]
  },
  {
   "cell_type": "markdown",
   "metadata": {},
   "source": [
    "In general, the correlation of Benefit and Total Pay Benefit is 0.78. But, when we focus on 2012-2014, there is a strong correlation between Benefit and Total Pay Benefit"
   ]
  },
  {
   "cell_type": "code",
   "execution_count": 308,
   "metadata": {},
   "outputs": [
    {
     "data": {
      "image/png": "[encoded data removed]",
      "text/plain": [
       "<matplotlib.figure.Figure at 0x1a32ece240>"
      ]
     },
     "metadata": {},
     "output_type": "display_data"
    }
   ],
   "source": [
    "# Distribution \n",
    "plt.hist(data.BasePay,bins=100,density=True)\n",
    "plt.xlabel('Base Pay')\n",
    "plt.ylabel('Density')\n",
    "plt.title('Distribution of Base Pay')\n",
    "plt.show()"
   ]
  },
  {
   "cell_type": "code",
   "execution_count": 288,
   "metadata": {},
   "outputs": [
    {
     "data": {
      "image/png": "[encoded data removed]",
      "text/plain": [
       "<matplotlib.figure.Figure at 0x1a2c97aa90>"
      ]
     },
     "metadata": {},
     "output_type": "display_data"
    }
   ],
   "source": [
    "plt.hist(data.OvertimePay,bins=100,density=True)\n",
    "plt.xlabel('Overtime Pay')\n",
    "plt.ylabel('Density')\n",
    "plt.title('Distribution of Overtime Pay')\n",
    "plt.show()"
   ]
  },
  {
   "cell_type": "code",
   "execution_count": 298,
   "metadata": {},
   "outputs": [
    {
     "data": {
      "image/png": "[encoded data removed]",
      "text/plain": [
       "<matplotlib.figure.Figure at 0x1a2cb2f1d0>"
      ]
     },
     "metadata": {},
     "output_type": "display_data"
    }
   ],
   "source": [
    "plt.hist(data.OtherPay,bins=100,density=True)\n",
    "plt.xlabel('Other Pay')\n",
    "plt.ylabel('Density')\n",
    "plt.title('Distribution of Other Pay')\n",
    "plt.show()"
   ]
  },
  {
   "cell_type": "code",
   "execution_count": 300,
   "metadata": {},
   "outputs": [
    {
     "data": {
      "image/png": "[encoded data removed]",
      "text/plain": [
       "<matplotlib.figure.Figure at 0x1a2d768240>"
      ]
     },
     "metadata": {},
     "output_type": "display_data"
    }
   ],
   "source": [
    "plt.hist(data.Benefits,bins=100,density=True)\n",
    "plt.xlabel('Benefits')\n",
    "plt.ylabel('Density')\n",
    "plt.title('Distribution of Benefits')\n",
    "plt.show()"
   ]
  },
  {
   "cell_type": "markdown",
   "metadata": {},
   "source": [
    "Most of Benefits are from 25,000 to 40,000"
   ]
  },
  {
   "cell_type": "code",
   "execution_count": 292,
   "metadata": {},
   "outputs": [
    {
     "data": {
      "image/png": "[encoded data removed]",
      "text/plain": [
       "<matplotlib.figure.Figure at 0x1a2d0d7908>"
      ]
     },
     "metadata": {},
     "output_type": "display_data"
    }
   ],
   "source": [
    "\n",
    "plt.hist(data.TotalPay,bins=100,density=True)\n",
    "plt.xlabel('Total Pay')\n",
    "plt.ylabel('Density')\n",
    "plt.title('Distribution of Total Pay')\n",
    "plt.show()"
   ]
  },
  {
   "cell_type": "code",
   "execution_count": 295,
   "metadata": {},
   "outputs": [
    {
     "data": {
      "image/png": "[encoded data removed]",
      "text/plain": [
       "<matplotlib.figure.Figure at 0x1a20c65ac8>"
      ]
     },
     "metadata": {},
     "output_type": "display_data"
    }
   ],
   "source": [
    "plt.hist(data.TotalPayBenefits,bins=100,density=True)\n",
    "plt.xlabel('Total Pay Benefits')\n",
    "plt.ylabel('Density')\n",
    "plt.title('Distribution of Total Pay Benefits')\n",
    "plt.show()"
   ]
  },
  {
   "cell_type": "markdown",
   "metadata": {},
   "source": [
    "1.All of them have a peak in zero.\n",
    "2.From the distribution of different pays, BasePay, TotalBenefit and TotalPayBenefits have similar distribution, and the majority of records are near average. "
   ]
  },
  {
   "cell_type": "markdown",
   "metadata": {},
   "source": [
    "## Bonus \n",
    "#### Is there a strong correlation between vowel count in a name and average salary? Create a VowelCount column, and create a plot with these 2 variables. Can you show a correlation between these two variables? Is it a strong one and what is it exactly? "
   ]
  },
  {
   "cell_type": "code",
   "execution_count": 248,
   "metadata": {},
   "outputs": [],
   "source": [
    "\n",
    "# caculate average salary per person\n",
    "#data1=data.groupby('EmployeeName').agg({'TotalPayBenefits': np.mean})\n",
    "\n",
    "vowel_salary=[]\n",
    "\n",
    "for i in I:\n",
    "    count = 0\n",
    "    for char in data.loc[i,'EmployeeName']: #already capatalized before\n",
    "        if(char == \"A\" or char ==\"E\" or char ==\"I\" or char ==\"O\" or char ==\"U\"):\n",
    "            count = count + 1\n",
    "    vowel_salary.append([data.loc[i,'EmployeeName'],count,data.loc[i,'TotalPayBenefits']])\n",
    "\n",
    "vowel_salary=pd.DataFrame(vowel_salary,index=I,columns=['EmployeeName','VowelCount','TotalPayBenefits'])\n",
    "\n"
   ]
  },
  {
   "cell_type": "code",
   "execution_count": 249,
   "metadata": {},
   "outputs": [
    {
     "data": {
      "text/html": [
       "<div>\n",
       "<style>\n",
       "    .dataframe thead tr:only-child th {\n",
       "        text-align: right;\n",
       "    }\n",
       "\n",
       "    .dataframe thead th {\n",
       "        text-align: left;\n",
       "    }\n",
       "\n",
       "    .dataframe tbody tr th {\n",
       "        vertical-align: top;\n",
       "    }\n",
       "</style>\n",
       "<table border=\"1\" class=\"dataframe\">\n",
       "  <thead>\n",
       "    <tr style=\"text-align: right;\">\n",
       "      <th></th>\n",
       "      <th>EmployeeName</th>\n",
       "      <th>VowelCount</th>\n",
       "      <th>TotalPayBenefits</th>\n",
       "    </tr>\n",
       "  </thead>\n",
       "  <tbody>\n",
       "    <tr>\n",
       "      <th>0</th>\n",
       "      <td>NATHANIEL FORD</td>\n",
       "      <td>5</td>\n",
       "      <td>567595.43</td>\n",
       "    </tr>\n",
       "    <tr>\n",
       "      <th>1</th>\n",
       "      <td>GARY JIMENEZ</td>\n",
       "      <td>4</td>\n",
       "      <td>538909.28</td>\n",
       "    </tr>\n",
       "    <tr>\n",
       "      <th>2</th>\n",
       "      <td>ALBERT PARDINI</td>\n",
       "      <td>5</td>\n",
       "      <td>335279.91</td>\n",
       "    </tr>\n",
       "    <tr>\n",
       "      <th>3</th>\n",
       "      <td>CHRISTOPHER CHONG</td>\n",
       "      <td>4</td>\n",
       "      <td>332343.61</td>\n",
       "    </tr>\n",
       "    <tr>\n",
       "      <th>4</th>\n",
       "      <td>PATRICK GARDNER</td>\n",
       "      <td>4</td>\n",
       "      <td>326373.19</td>\n",
       "    </tr>\n",
       "  </tbody>\n",
       "</table>\n",
       "</div>"
      ],
      "text/plain": [
       "        EmployeeName  VowelCount  TotalPayBenefits\n",
       "0     NATHANIEL FORD           5         567595.43\n",
       "1       GARY JIMENEZ           4         538909.28\n",
       "2     ALBERT PARDINI           5         335279.91\n",
       "3  CHRISTOPHER CHONG           4         332343.61\n",
       "4    PATRICK GARDNER           4         326373.19"
      ]
     },
     "execution_count": 249,
     "metadata": {},
     "output_type": "execute_result"
    }
   ],
   "source": [
    "vowel_salary.head()"
   ]
  },
  {
   "cell_type": "code",
   "execution_count": 250,
   "metadata": {},
   "outputs": [],
   "source": [
    "result=vowel_salary.groupby('VowelCount').agg({'TotalPayBenefits': np.mean})\n",
    "result['VowelCount']=result.index\n"
   ]
  },
  {
   "cell_type": "code",
   "execution_count": 251,
   "metadata": {},
   "outputs": [
    {
     "data": {
      "text/html": [
       "<div>\n",
       "<style>\n",
       "    .dataframe thead tr:only-child th {\n",
       "        text-align: right;\n",
       "    }\n",
       "\n",
       "    .dataframe thead th {\n",
       "        text-align: left;\n",
       "    }\n",
       "\n",
       "    .dataframe tbody tr th {\n",
       "        vertical-align: top;\n",
       "    }\n",
       "</style>\n",
       "<table border=\"1\" class=\"dataframe\">\n",
       "  <thead>\n",
       "    <tr style=\"text-align: right;\">\n",
       "      <th></th>\n",
       "      <th>TotalPayBenefits</th>\n",
       "      <th>VowelCount</th>\n",
       "    </tr>\n",
       "    <tr>\n",
       "      <th>VowelCount</th>\n",
       "      <th></th>\n",
       "      <th></th>\n",
       "    </tr>\n",
       "  </thead>\n",
       "  <tbody>\n",
       "    <tr>\n",
       "      <th>1</th>\n",
       "      <td>108116.844390</td>\n",
       "      <td>1</td>\n",
       "    </tr>\n",
       "    <tr>\n",
       "      <th>2</th>\n",
       "      <td>94201.231001</td>\n",
       "      <td>2</td>\n",
       "    </tr>\n",
       "    <tr>\n",
       "      <th>3</th>\n",
       "      <td>98048.203516</td>\n",
       "      <td>3</td>\n",
       "    </tr>\n",
       "    <tr>\n",
       "      <th>4</th>\n",
       "      <td>95656.300162</td>\n",
       "      <td>4</td>\n",
       "    </tr>\n",
       "    <tr>\n",
       "      <th>5</th>\n",
       "      <td>94106.458011</td>\n",
       "      <td>5</td>\n",
       "    </tr>\n",
       "  </tbody>\n",
       "</table>\n",
       "</div>"
      ],
      "text/plain": [
       "            TotalPayBenefits  VowelCount\n",
       "VowelCount                              \n",
       "1              108116.844390           1\n",
       "2               94201.231001           2\n",
       "3               98048.203516           3\n",
       "4               95656.300162           4\n",
       "5               94106.458011           5"
      ]
     },
     "execution_count": 251,
     "metadata": {},
     "output_type": "execute_result"
    }
   ],
   "source": [
    "result.head()"
   ]
  },
  {
   "cell_type": "code",
   "execution_count": 252,
   "metadata": {},
   "outputs": [
    {
     "data": {
      "text/plain": [
       "-0.0098638827055836497"
      ]
     },
     "execution_count": 252,
     "metadata": {},
     "output_type": "execute_result"
    }
   ],
   "source": [
    "result.VowelCount.corr(result.TotalPayBenefits)\n",
    "#the correlation coefficient is -0.06, showing that there is really small correlation between these two variables."
   ]
  },
  {
   "cell_type": "code",
   "execution_count": 256,
   "metadata": {},
   "outputs": [
    {
     "data": {
      "image/png": "[encoded data removed]",
      "text/plain": [
       "<matplotlib.figure.Figure at 0x1a2c55c9b0>"
      ]
     },
     "metadata": {},
     "output_type": "display_data"
    }
   ],
   "source": [
    "sns.regplot(x='VowelCount', y='TotalPayBenefits', data=result)\n",
    "plt.title('Relationship between Vowel Count in a Name and Average Salary')\n",
    "plt.xlabel('Number of Vowel')\n",
    "plt.ylabel('Total Pay Benefits')\n",
    "plt.show()"
   ]
  },
  {
   "cell_type": "markdown",
   "metadata": {},
   "source": [
    "So the correlation is -0.009, which is so small that there is little correlation between Vowel Count in a Name and Average Salary"
   ]
  }
 ],
 "metadata": {
  "kernelspec": {
   "display_name": "Python 3",
   "language": "python",
   "name": "python3"
  },
  "language_info": {
   "codemirror_mode": {
    "name": "ipython",
    "version": 3
   },
   "file_extension": ".py",
   "mimetype": "text/x-python",
   "name": "python",
   "nbconvert_exporter": "python",
   "pygments_lexer": "ipython3",
   "version": "3.6.3"
  }
 },
 "nbformat": 4,
 "nbformat_minor": 2
}
